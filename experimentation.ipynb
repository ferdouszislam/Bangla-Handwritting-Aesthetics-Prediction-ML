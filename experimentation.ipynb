{
  "nbformat": 4,
  "nbformat_minor": 0,
  "metadata": {
    "colab": {
      "name": "experimentation.ipynb",
      "provenance": [],
      "collapsed_sections": [],
      "authorship_tag": "ABX9TyMFgN+U7u/V3QXbC2fBFI4k",
      "include_colab_link": true
    },
    "kernelspec": {
      "name": "python3",
      "display_name": "Python 3"
    },
    "language_info": {
      "name": "python"
    },
    "accelerator": "GPU"
  },
  "cells": [
    {
      "cell_type": "markdown",
      "metadata": {
        "id": "view-in-github",
        "colab_type": "text"
      },
      "source": [
        "<a href=\"https://colab.research.google.com/github/ferdouszislam/Bangla-Handwritting-Aesthetics-Prediction-ML/blob/main/experimentation.ipynb\" target=\"_parent\"><img src=\"https://colab.research.google.com/assets/colab-badge.svg\" alt=\"Open In Colab\"/></a>"
      ]
    },
    {
      "cell_type": "code",
      "metadata": {
        "id": "pdDVpaPj0XQQ"
      },
      "source": [
        "import torch\n",
        "import numpy as np\n",
        "import math\n",
        "import torch.nn as nn\n",
        "import matplotlib.pyplot as plt\n",
        "import pandas as pd\n",
        "import torchvision\n",
        "import torchvision.transforms as transforms\n",
        "from torch.utils.data import Dataset, DataLoader\n",
        "from skimage import io"
      ],
      "execution_count": 1,
      "outputs": []
    },
    {
      "cell_type": "code",
      "metadata": {
        "id": "jT8i-2KxIanO",
        "colab": {
          "base_uri": "https://localhost:8080/"
        },
        "outputId": "7727ed07-5c9d-4a53-8633-d6cc571e9829"
      },
      "source": [
        "# mount gdrive with this code\n",
        "from google.colab import drive\n",
        "drive.mount('/content/drive')"
      ],
      "execution_count": 2,
      "outputs": [
        {
          "output_type": "stream",
          "text": [
            "Mounted at /content/drive\n"
          ],
          "name": "stdout"
        }
      ]
    },
    {
      "cell_type": "code",
      "metadata": {
        "id": "bpxRqJ4t0vzs",
        "colab": {
          "base_uri": "https://localhost:8080/"
        },
        "outputId": "4e716854-5ad2-44f7-e6f0-50bdfb1eb99b"
      },
      "source": [
        "# device configuration\n",
        "device = torch.device('cuda' if torch.cuda.is_available() else 'cpu')\n",
        "device"
      ],
      "execution_count": 3,
      "outputs": [
        {
          "output_type": "execute_result",
          "data": {
            "text/plain": [
              "device(type='cpu')"
            ]
          },
          "metadata": {
            "tags": []
          },
          "execution_count": 3
        }
      ]
    },
    {
      "cell_type": "code",
      "metadata": {
        "id": "4jDYZDoy0780"
      },
      "source": [
        "# extract the zip file containing our dataset\n",
        "import zipfile\n",
        "import os\n",
        "\n",
        "zip_ref = zipfile.ZipFile('/content/drive/MyDrive/Colab Notebooks/BanglaLekha-Isolated_aesthetics_dataset/prepared-datasets.zip', 'r')\n",
        "zip_ref.extractall('/tmp')\n",
        "zip_ref.close()"
      ],
      "execution_count": 4,
      "outputs": []
    },
    {
      "cell_type": "code",
      "metadata": {
        "id": "6rP9-nAEG6VV"
      },
      "source": [
        "# custom dataset class\n",
        "class BanglaAestheticsDataset(Dataset):\n",
        "  def __init__(self, labels_csv_file, img_dir, transform=None):\n",
        "    self.labels_df = pd.read_csv(labels_csv_file)\n",
        "    self.img_dir = img_dir\n",
        "    self.transform = transform\n",
        "\n",
        "  def __len__(self):\n",
        "    return len(self.labels_df)\n",
        "\n",
        "  def __getitem__(self, index):\n",
        "    img_path = os.path.join(self.img_dir, self.labels_df.iloc[index, 0])\n",
        "    image = io.imread(img_path)\n",
        "    if self.transform:\n",
        "      image = self.transform(image)\n",
        "    y_label = torch.tensor(int(self.labels_df.iloc[index, 3]))\n",
        "    \n",
        "    return (image, y_label)"
      ],
      "execution_count": 5,
      "outputs": []
    },
    {
      "cell_type": "code",
      "metadata": {
        "id": "5avGEJ2TJLa5"
      },
      "source": [
        "# load data\n",
        "\n",
        "# resize to same shape and convert to tensor\n",
        "custom_transform = transforms.Compose([transforms.ToPILImage(), transforms.Resize((50, 50)), transforms.ToTensor()])\n",
        "\n",
        "train_dataset = BanglaAestheticsDataset(labels_csv_file='/tmp/prepared-datasets/aesthetics_train.csv', \n",
        "                                        img_dir='/tmp/prepared-datasets/train_images', transform=custom_transform)\n",
        "\n",
        "val_dataset = BanglaAestheticsDataset(labels_csv_file='/tmp/prepared-datasets/aesthetics_val.csv', \n",
        "                                        img_dir='/tmp/prepared-datasets/validation_images', transform=custom_transform)\n",
        "\n",
        "test_dataset = BanglaAestheticsDataset(labels_csv_file='/tmp/prepared-datasets/aesthetics_test.csv', \n",
        "                                        img_dir='/tmp/prepared-datasets/test_images', transform=custom_transform)"
      ],
      "execution_count": 6,
      "outputs": []
    },
    {
      "cell_type": "code",
      "metadata": {
        "id": "Pvlyl8uuLAsL"
      },
      "source": [
        "# data loaders\n",
        "\n",
        "batch_size = 64 # no of samples in a single batch\n",
        "\n",
        "train_loader = DataLoader(dataset=train_dataset, batch_size=batch_size, shuffle=True)\n",
        "val_loader = DataLoader(dataset=val_dataset, batch_size=batch_size, shuffle=True)\n",
        "test_loader = DataLoader(dataset=test_dataset, batch_size=batch_size, shuffle=False)"
      ],
      "execution_count": 7,
      "outputs": []
    },
    {
      "cell_type": "code",
      "metadata": {
        "id": "LH4Vg5EuLpup",
        "colab": {
          "base_uri": "https://localhost:8080/",
          "height": 302
        },
        "outputId": "d4e3d8bd-aef1-4831-bc0b-4f67333c4e63"
      },
      "source": [
        "# visualize data\n",
        "examples = iter(train_loader)\n",
        "example_data, example_targets = examples.next()\n",
        "print('input -', example_data.shape, '\\noutput -', example_targets.shape)\n",
        "# plot datatset images\n",
        "for i in range(6):\n",
        "  plt.subplot(2, 3, i+1)\n",
        "  plt.imshow(example_data[i][0], cmap='gray')\n",
        "plt.show()"
      ],
      "execution_count": 8,
      "outputs": [
        {
          "output_type": "stream",
          "text": [
            "input - torch.Size([64, 1, 50, 50]) \n",
            "output - torch.Size([64])\n"
          ],
          "name": "stdout"
        },
        {
          "output_type": "display_data",
          "data": {
            "image/png": "[encoded data removed]",
            "text/plain": [
              "<Figure size 432x288 with 6 Axes>"
            ]
          },
          "metadata": {
            "tags": [],
            "needs_background": "light"
          }
        }
      ]
    },
    {
      "cell_type": "markdown",
      "metadata": {
        "id": "2MzeqzsVTU_T"
      },
      "source": [
        "# ANN experimentation starts from here"
      ]
    },
    {
      "cell_type": "code",
      "metadata": {
        "id": "PuGsF1kwTSqC"
      },
      "source": [
        "# ann hyperparameters\n",
        "input_size = 50*50\n",
        "fc1_size = 512\n",
        "fc2_size = 128\n",
        "num_epochs = 100\n",
        "learning_rate = 0.001"
      ],
      "execution_count": 9,
      "outputs": []
    },
    {
      "cell_type": "code",
      "metadata": {
        "id": "EULlx9ryT0gu"
      },
      "source": [
        "# custom ANN class with two hidden layers, relu activation and dropout\n",
        "class ANN(nn.Module):\n",
        "  def __init__(self, input_size, fc1_size, fc2_size):\n",
        "    super(ANN, self).__init__()\n",
        "    self.fc1 = nn.Linear(input_size, fc1_size)\n",
        "    self.dropout_fc1 = nn.Dropout(0.5)\n",
        "    self.relu = nn.ReLU()\n",
        "    self.fc2 = nn.Linear(fc1_size, fc2_size)\n",
        "    self.dropout_fc2 = nn.Dropout(0.25)\n",
        "    self.output_layer = nn.Linear(fc2_size, 1)\n",
        "\n",
        "  def forward(self, input):\n",
        "    # input layer to hidden layer 1\n",
        "    output = self.dropout_fc1(self.fc1(input))\n",
        "    output = self.relu(output)\n",
        "    # hidden layer 1 to hidden layer 2\n",
        "    output = self.dropout_fc2(self.fc2(output))\n",
        "    output = self.relu(output)\n",
        "    # hidden layer 2 to output\n",
        "    output = self.output_layer(output)\n",
        "    pred = torch.sigmoid(output) # probability prediction\n",
        "    return pred"
      ],
      "execution_count": 10,
      "outputs": []
    },
    {
      "cell_type": "code",
      "metadata": {
        "id": "MT9DizS-jX01"
      },
      "source": [
        "# cnn hyperparameters"
      ],
      "execution_count": null,
      "outputs": []
    },
    {
      "cell_type": "code",
      "metadata": {
        "id": "YQvto-pPjckf"
      },
      "source": [
        "# custom cnn class "
      ],
      "execution_count": null,
      "outputs": []
    },
    {
      "cell_type": "code",
      "metadata": {
        "id": "5xf2Gq4sjAZw"
      },
      "source": [
        "PATH_TO_ANN_MODEL = 'ann_model.pth'\n",
        "PATH_TO_CNN_MODEL = 'cnn_model.pth'\n",
        "\n",
        "# training loop\n",
        "def train(model, optimizer, criterion, train_loader, num_epochs, SAVE_PATH):\n",
        "  min_valid_loss = np.inf\n",
        "  total_train_step = len(train_loader)\n",
        "  \n",
        "  # train loop\n",
        "  for epoch in range(num_epochs):\n",
        "    train_loss = 0.0\n",
        "    model.train() # set the model in train mode\n",
        "    for step, (images, labels) in enumerate(train_loader):\n",
        "      images = images.reshape(-1, 50*50) # flatten image\n",
        "      images = images.to(device)\n",
        "      labels = labels.to(device)\n",
        "\n",
        "      outputs = model(images)\n",
        "      labels = labels.unsqueeze(1)\n",
        "      labels = labels.float()\n",
        "\n",
        "      loss = criterion(outputs, labels)\n",
        "      optimizer.zero_grad()\n",
        "      loss.backward()\n",
        "      optimizer.step()\n",
        "\n",
        "      # accumulate training loss\n",
        "      train_loss+=loss.item()\n",
        "\n",
        "    valid_loss = 0.0\n",
        "    model.eval() # set the model to evaluation mode\n",
        "    with torch.no_grad():\n",
        "      for step, (images, labels) in enumerate(val_loader):\n",
        "        images = images.reshape(-1, 50*50) # flatten image\n",
        "        images = images.to(device)\n",
        "        labels = labels.to(device)\n",
        "\n",
        "        outputs = model(images)\n",
        "        labels = labels.unsqueeze(1)\n",
        "        labels = labels.float()\n",
        "\n",
        "        loss = criterion(outputs, labels)\n",
        "\n",
        "        # accumulate validation loss\n",
        "        valid_loss+=loss.item()\n",
        "\n",
        "    train_loss /= len(train_loader)\n",
        "    valid_loss /= len(val_loader)\n",
        "    print(f'epoch {epoch+1} --- training loss: {train_loss:.4f} --- validation loss: {valid_loss:.4f}')\n",
        "\n",
        "    if min_valid_loss > valid_loss:\n",
        "        print(f'validation loss decreased({min_valid_loss:.4f}--->{valid_loss:.4f}) \\t Saving The Model')\n",
        "        min_valid_loss = valid_loss\n",
        "        # Saving State Dict\n",
        "        #torch.save(model, 'saved_model.pth')\n",
        "        model.to(device)\n",
        "        torch.save(model.state_dict(), SAVE_PATH)\n",
        "\n",
        "# evaluation \n",
        "def eval(model, test_loader):\n",
        "  model.eval()\n",
        "  with torch.no_grad():\n",
        "    n_correct_samples = 0\n",
        "    n_total_samples = 0\n",
        "    for imgs, labels in test_loader:\n",
        "      imgs = imgs.reshape(-1, 50*50).to(device)\n",
        "      labels = labels.to(device).reshape(-1, 1)\n",
        "\n",
        "      outputs = model(imgs)\n",
        "\n",
        "      #pred = outputs.round() # if outputs>=0.5 class = 1, else class = 0\n",
        "      pred = torch.round(outputs)\n",
        "\n",
        "      #print(pred.shape, labels.shape)\n",
        "      \n",
        "      n_total_samples+=labels.size(0)\n",
        "      n_correct_samples+=pred.eq(labels).sum().item()\n",
        "\n",
        "    print(f'Accuracy = {100*n_correct_samples/n_total_samples : 0.3f}')"
      ],
      "execution_count": 11,
      "outputs": []
    },
    {
      "cell_type": "code",
      "metadata": {
        "colab": {
          "base_uri": "https://localhost:8080/"
        },
        "id": "UGLoo4qDjYLH",
        "outputId": "21455487-cc2e-4c7f-b493-5094a5e62de5"
      },
      "source": [
        "# init model\n",
        "model = ANN(input_size=input_size, fc1_size=fc1_size, fc2_size=fc2_size)\n",
        "model = model.to(device)\n",
        "\n",
        "# init loss function, optimizer\n",
        "criterion = nn.BCELoss()\n",
        "optimizer = torch.optim.Adam(model.parameters(), lr=learning_rate)\n",
        "\n",
        "train(model, optimizer, criterion, train_loader, num_epochs=15)"
      ],
      "execution_count": 12,
      "outputs": [
        {
          "output_type": "stream",
          "text": [
            "epoch 1 --- training loss: 0.6585 --- validation loss: 0.6290\n",
            "validation loss decreased(inf--->0.6290) \t Saving The Model\n",
            "epoch 2 --- training loss: 0.6324 --- validation loss: 0.6125\n",
            "validation loss decreased(0.6290--->0.6125) \t Saving The Model\n",
            "epoch 3 --- training loss: 0.6174 --- validation loss: 0.6123\n",
            "validation loss decreased(0.6125--->0.6123) \t Saving The Model\n",
            "epoch 4 --- training loss: 0.6042 --- validation loss: 0.6036\n",
            "validation loss decreased(0.6123--->0.6036) \t Saving The Model\n",
            "epoch 5 --- training loss: 0.5923 --- validation loss: 0.5987\n",
            "validation loss decreased(0.6036--->0.5987) \t Saving The Model\n",
            "epoch 6 --- training loss: 0.5817 --- validation loss: 0.5918\n",
            "validation loss decreased(0.5987--->0.5918) \t Saving The Model\n",
            "epoch 7 --- training loss: 0.5705 --- validation loss: 0.5963\n",
            "epoch 8 --- training loss: 0.5606 --- validation loss: 0.5915\n",
            "validation loss decreased(0.5918--->0.5915) \t Saving The Model\n",
            "epoch 9 --- training loss: 0.5501 --- validation loss: 0.5959\n",
            "epoch 10 --- training loss: 0.5395 --- validation loss: 0.6033\n",
            "epoch 11 --- training loss: 0.5315 --- validation loss: 0.5923\n",
            "epoch 12 --- training loss: 0.5175 --- validation loss: 0.5923\n",
            "epoch 13 --- training loss: 0.5108 --- validation loss: 0.5993\n",
            "epoch 14 --- training loss: 0.4997 --- validation loss: 0.6070\n",
            "epoch 15 --- training loss: 0.4905 --- validation loss: 0.6071\n"
          ],
          "name": "stdout"
        }
      ]
    },
    {
      "cell_type": "code",
      "metadata": {
        "id": "0czj1AVmrSWy",
        "colab": {
          "base_uri": "https://localhost:8080/"
        },
        "outputId": "59ffee89-eacb-4ffc-faf1-2ef20f4731f7"
      },
      "source": [
        "model = ANN(input_size=input_size, fc1_size=fc1_size, fc2_size=fc2_size)\n",
        "model.load_state_dict(torch.load('saved_model.pth'))\n",
        "model = model.to(device)\n",
        "eval(model=model, test_loader=test_loader)"
      ],
      "execution_count": 13,
      "outputs": [
        {
          "output_type": "stream",
          "text": [
            "Accuracy =  67.134\n"
          ],
          "name": "stdout"
        }
      ]
    }
  ]
}