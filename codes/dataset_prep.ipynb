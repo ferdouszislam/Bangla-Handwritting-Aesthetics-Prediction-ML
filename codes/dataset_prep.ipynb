{
 "cells": [
  {
   "cell_type": "code",
   "execution_count": 1,
   "id": "b3e6bd7e",
   "metadata": {},
   "outputs": [],
   "source": [
    "# required for jupyter notebook\n",
    "%matplotlib inline \n",
    "\n",
    "import numpy as np\n",
    "import pandas as pd\n",
    "import math\n",
    "\n",
    "from sklearn.model_selection import train_test_split\n",
    "\n",
    "import os\n",
    "import shutil"
   ]
  },
  {
   "cell_type": "markdown",
   "id": "377d8c9f",
   "metadata": {},
   "source": [
    "### Upon analysis we found that folder 74 contained image files with '_75' at the end of their file names. The code below fixes such file names."
   ]
  },
  {
   "cell_type": "code",
   "execution_count": 2,
   "id": "4cc80ce7",
   "metadata": {},
   "outputs": [],
   "source": [
    "images_dir = os.path.join('..', 'dataset', 'BanglaLekha-Isolated', 'Images')\n",
    "\n",
    "for i in range(1, 84+1):\n",
    "    \n",
    "    curr_dir = os.path.join(images_dir, str(i))\n",
    "    \n",
    "    for file_name in os.listdir(curr_dir): \n",
    "        if os.path.isfile(os.path.join(curr_dir, file_name)) == False:\n",
    "            continue\n",
    "        \n",
    "        file_name_parts = file_name.split('_')\n",
    "        \n",
    "        file_folder = file_name_parts[6]\n",
    "        \n",
    "        if file_folder!=str(i)+'.png':\n",
    "            new_file_name=''\n",
    "            for j in range(6):\n",
    "                new_file_name+=file_name_parts[j]+'_'\n",
    "            new_file_name+=str(i)+'.png'\n",
    "            \n",
    "            #print(file_name, ' -> ', new_file_name)\n",
    "            os.rename(os.path.join(curr_dir, file_name), os.path.join(curr_dir, new_file_name))"
   ]
  },
  {
   "cell_type": "markdown",
   "id": "3ff72aae",
   "metadata": {},
   "source": [
    "### Mean aesthetic score = 2.455"
   ]
  },
  {
   "cell_type": "code",
   "execution_count": 3,
   "id": "2afb1f68",
   "metadata": {},
   "outputs": [],
   "source": [
    "MEAN_AES_SCORE = 2.455"
   ]
  },
  {
   "cell_type": "code",
   "execution_count": 4,
   "id": "7dabd5c7",
   "metadata": {},
   "outputs": [],
   "source": [
    "raw_aestheticScores_df = pd.read_csv(os.path.join('..', 'dataset', 'BanglaLekha-Isolated', 'aesthetic-scores.csv'))"
   ]
  },
  {
   "cell_type": "code",
   "execution_count": 5,
   "id": "db592075",
   "metadata": {},
   "outputs": [
    {
     "data": {
      "text/html": [
       "<div>\n",
       "<style scoped>\n",
       "    .dataframe tbody tr th:only-of-type {\n",
       "        vertical-align: middle;\n",
       "    }\n",
       "\n",
       "    .dataframe tbody tr th {\n",
       "        vertical-align: top;\n",
       "    }\n",
       "\n",
       "    .dataframe thead th {\n",
       "        text-align: right;\n",
       "    }\n",
       "</style>\n",
       "<table border=\"1\" class=\"dataframe\">\n",
       "  <thead>\n",
       "    <tr style=\"text-align: right;\">\n",
       "      <th></th>\n",
       "      <th>Form No</th>\n",
       "      <th>Out Of 5 (1st Person)</th>\n",
       "      <th>Out of 5 (2nd Person)</th>\n",
       "      <th>Out of 5 (3rd Person)</th>\n",
       "      <th>Average</th>\n",
       "    </tr>\n",
       "  </thead>\n",
       "  <tbody>\n",
       "    <tr>\n",
       "      <th>0</th>\n",
       "      <td>1</td>\n",
       "      <td>2</td>\n",
       "      <td>4</td>\n",
       "      <td>5</td>\n",
       "      <td>3.666667</td>\n",
       "    </tr>\n",
       "    <tr>\n",
       "      <th>1</th>\n",
       "      <td>2</td>\n",
       "      <td>1</td>\n",
       "      <td>3</td>\n",
       "      <td>4</td>\n",
       "      <td>2.666667</td>\n",
       "    </tr>\n",
       "    <tr>\n",
       "      <th>2</th>\n",
       "      <td>3</td>\n",
       "      <td>3</td>\n",
       "      <td>5</td>\n",
       "      <td>4</td>\n",
       "      <td>4.000000</td>\n",
       "    </tr>\n",
       "    <tr>\n",
       "      <th>3</th>\n",
       "      <td>4</td>\n",
       "      <td>2</td>\n",
       "      <td>3</td>\n",
       "      <td>4</td>\n",
       "      <td>3.000000</td>\n",
       "    </tr>\n",
       "    <tr>\n",
       "      <th>4</th>\n",
       "      <td>5</td>\n",
       "      <td>1</td>\n",
       "      <td>3</td>\n",
       "      <td>3</td>\n",
       "      <td>2.333333</td>\n",
       "    </tr>\n",
       "  </tbody>\n",
       "</table>\n",
       "</div>"
      ],
      "text/plain": [
       "   Form No  Out Of 5 (1st Person)  Out of 5 (2nd Person)  \\\n",
       "0        1                      2                      4   \n",
       "1        2                      1                      3   \n",
       "2        3                      3                      5   \n",
       "3        4                      2                      3   \n",
       "4        5                      1                      3   \n",
       "\n",
       "   Out of 5 (3rd Person)   Average  \n",
       "0                      5  3.666667  \n",
       "1                      4  2.666667  \n",
       "2                      4  4.000000  \n",
       "3                      4  3.000000  \n",
       "4                      3  2.333333  "
      ]
     },
     "execution_count": 5,
     "metadata": {},
     "output_type": "execute_result"
    }
   ],
   "source": [
    "raw_aestheticScores_df.head()"
   ]
  },
  {
   "cell_type": "code",
   "execution_count": 6,
   "id": "21b26ede",
   "metadata": {},
   "outputs": [],
   "source": [
    "'''\n",
    "returns a map of key->value : form_id->aesthetic_score\n",
    "'''\n",
    "def get_form_aesScores(aestheticScores_df):\n",
    "    \n",
    "    form_aesScores = {} \n",
    "    \n",
    "    form_ids = []\n",
    "    aes_scores = []\n",
    "    for form_id in aestheticScores_df['Form No']:\n",
    "        form_ids.append(form_id)\n",
    "    for aes_score in aestheticScores_df['Average']:\n",
    "        aes_scores.append(aes_score)\n",
    "        \n",
    "    for i in range(len(form_ids)):\n",
    "        form_aesScores[form_ids[i]] = aes_scores[i]\n",
    "        \n",
    "    return form_aesScores"
   ]
  },
  {
   "cell_type": "code",
   "execution_count": 7,
   "id": "20b26c6e",
   "metadata": {},
   "outputs": [],
   "source": [
    "'''\n",
    "create 4 PARALLEL lists- image_file_name[], aesthetic_score[], aesthetic_quality[], prob_good[]\n",
    "image_file_name[] = name of the sample image file\n",
    "aesthetic_score[] = aesthetic score assigned in decimal point number\n",
    "aesthetic_quality[] = label- 'good' or 'bad'\n",
    "prob_good[] = 1 if good, 0 if bad \n",
    "\n",
    "extra columns- prob_1, prob_2, prob_3, prob_4, prob_5\n",
    "these columns represent probability of score being 1 to 5\n",
    "meaning,\n",
    "if a sample's ground truth score is 3.3 \n",
    "then prob_1=0, prob_2=0, prob_3 = 0.67, prob_4=0.33, prob_5=0\n",
    "\n",
    "score_labels: labels according to higest probability in prob_1, prob_2, ..., prob_5\n",
    "\n",
    "returns a dataframe with each list as a column\n",
    "'''\n",
    "def prepare_hwAesthetics_df(mp_formWise_aesScores, begin=1, end=84, mean_aesScore = 2.455):\n",
    "\n",
    "    image_file_names, aesthetic_scores, aesthetic_qualitys, prob_goods = [], [], [], []\n",
    "    prob_1s, prob_2s, prob_3s, prob_4s, prob_5s = [], [], [], [], []\n",
    "    score_labels = []\n",
    "    \n",
    "    images_dir = os.path.join('..', 'dataset', 'BanglaLekha-Isolated', 'Images')\n",
    "    \n",
    "    for i in range(begin, end+1):\n",
    "        \n",
    "        curr_dir = os.path.join(images_dir, str(i))\n",
    "        \n",
    "        for file_name in os.listdir(curr_dir): \n",
    "            if os.path.isfile(os.path.join(curr_dir, file_name)) == False:\n",
    "                continue\n",
    "                \n",
    "            form_id = int(file_name.split('_')[5])\n",
    "            \n",
    "            if form_id not in mp_formWise_aesScores:\n",
    "                continue\n",
    "            \n",
    "            aes_score = mp_formWise_aesScores[form_id]\n",
    "            \n",
    "            image_file_names.append(file_name)\n",
    "            aesthetic_scores.append(aes_score)\n",
    "            if aes_score >= mean_aesScore:\n",
    "                aesthetic_qualitys.append('good')\n",
    "                prob_goods.append(1)\n",
    "            else:\n",
    "                aesthetic_qualitys.append('bad')\n",
    "                prob_goods.append(0)\n",
    "            \n",
    "            # if score=3.3, score_probs= [0.0, 0.0, 0.67, 0.33, 0.0] \n",
    "            score_probs = [0.0, 0.0, 0.0, 0.0, 0.0]\n",
    "            score_probs[math.floor(aes_score)-1] = 1.0 - (aes_score - float(math.floor(aes_score)))\n",
    "            if math.floor(aes_score) != math.ceil(aes_score):\n",
    "                score_probs[math.ceil(aes_score)-1] = (aes_score - float(math.floor(aes_score)))\n",
    "            score_probs = [round(x, 2) for x in score_probs]\n",
    "            prob_1s.append(score_probs[0])\n",
    "            prob_2s.append(score_probs[1])\n",
    "            prob_3s.append(score_probs[2])\n",
    "            prob_4s.append(score_probs[3])\n",
    "            prob_5s.append(score_probs[4])\n",
    "            \n",
    "            score_labels.append(round(aes_score))\n",
    "            \n",
    "                \n",
    "    return pd.DataFrame({'image_file_name': image_file_names,\n",
    "                       'aesthetic_score': aesthetic_scores,\n",
    "                       'aesthetic_quality': aesthetic_qualitys,\n",
    "                       'probability_good': prob_goods, \n",
    "                        'prob_1': prob_1s,\n",
    "                        'prob_2': prob_2s,\n",
    "                        'prob_3': prob_3s,\n",
    "                        'prob_4': prob_4s,\n",
    "                        'prob_5': prob_5s,\n",
    "                        'score_label': score_labels})"
   ]
  },
  {
   "cell_type": "code",
   "execution_count": 8,
   "id": "5976aff7",
   "metadata": {},
   "outputs": [
    {
     "name": "stdout",
     "output_type": "stream",
     "text": [
      "2000\n"
     ]
    },
    {
     "data": {
      "text/html": [
       "<div>\n",
       "<style scoped>\n",
       "    .dataframe tbody tr th:only-of-type {\n",
       "        vertical-align: middle;\n",
       "    }\n",
       "\n",
       "    .dataframe tbody tr th {\n",
       "        vertical-align: top;\n",
       "    }\n",
       "\n",
       "    .dataframe thead th {\n",
       "        text-align: right;\n",
       "    }\n",
       "</style>\n",
       "<table border=\"1\" class=\"dataframe\">\n",
       "  <thead>\n",
       "    <tr style=\"text-align: right;\">\n",
       "      <th></th>\n",
       "      <th>image_file_name</th>\n",
       "      <th>aesthetic_score</th>\n",
       "      <th>aesthetic_quality</th>\n",
       "      <th>probability_good</th>\n",
       "      <th>prob_1</th>\n",
       "      <th>prob_2</th>\n",
       "      <th>prob_3</th>\n",
       "      <th>prob_4</th>\n",
       "      <th>prob_5</th>\n",
       "      <th>score_label</th>\n",
       "    </tr>\n",
       "  </thead>\n",
       "  <tbody>\n",
       "    <tr>\n",
       "      <th>0</th>\n",
       "      <td>02_0002_0_23_1016_1067_1.png</td>\n",
       "      <td>1.333333</td>\n",
       "      <td>bad</td>\n",
       "      <td>0</td>\n",
       "      <td>0.67</td>\n",
       "      <td>0.33</td>\n",
       "      <td>0.00</td>\n",
       "      <td>0.00</td>\n",
       "      <td>0.0</td>\n",
       "      <td>1</td>\n",
       "    </tr>\n",
       "    <tr>\n",
       "      <th>1</th>\n",
       "      <td>02_0002_0_23_1016_1730_1.png</td>\n",
       "      <td>1.333333</td>\n",
       "      <td>bad</td>\n",
       "      <td>0</td>\n",
       "      <td>0.67</td>\n",
       "      <td>0.33</td>\n",
       "      <td>0.00</td>\n",
       "      <td>0.00</td>\n",
       "      <td>0.0</td>\n",
       "      <td>1</td>\n",
       "    </tr>\n",
       "    <tr>\n",
       "      <th>2</th>\n",
       "      <td>01_0001_0_15_0916_0422_1.png</td>\n",
       "      <td>3.666667</td>\n",
       "      <td>good</td>\n",
       "      <td>1</td>\n",
       "      <td>0.00</td>\n",
       "      <td>0.00</td>\n",
       "      <td>0.33</td>\n",
       "      <td>0.67</td>\n",
       "      <td>0.0</td>\n",
       "      <td>4</td>\n",
       "    </tr>\n",
       "    <tr>\n",
       "      <th>3</th>\n",
       "      <td>02_0002_0_24_1016_1542_1.png</td>\n",
       "      <td>2.000000</td>\n",
       "      <td>bad</td>\n",
       "      <td>0</td>\n",
       "      <td>0.00</td>\n",
       "      <td>1.00</td>\n",
       "      <td>0.00</td>\n",
       "      <td>0.00</td>\n",
       "      <td>0.0</td>\n",
       "      <td>2</td>\n",
       "    </tr>\n",
       "    <tr>\n",
       "      <th>4</th>\n",
       "      <td>01_0001_1_16_0916_0320_1.png</td>\n",
       "      <td>4.000000</td>\n",
       "      <td>good</td>\n",
       "      <td>1</td>\n",
       "      <td>0.00</td>\n",
       "      <td>0.00</td>\n",
       "      <td>0.00</td>\n",
       "      <td>1.00</td>\n",
       "      <td>0.0</td>\n",
       "      <td>4</td>\n",
       "    </tr>\n",
       "  </tbody>\n",
       "</table>\n",
       "</div>"
      ],
      "text/plain": [
       "                image_file_name  aesthetic_score aesthetic_quality  \\\n",
       "0  02_0002_0_23_1016_1067_1.png         1.333333               bad   \n",
       "1  02_0002_0_23_1016_1730_1.png         1.333333               bad   \n",
       "2  01_0001_0_15_0916_0422_1.png         3.666667              good   \n",
       "3  02_0002_0_24_1016_1542_1.png         2.000000               bad   \n",
       "4  01_0001_1_16_0916_0320_1.png         4.000000              good   \n",
       "\n",
       "   probability_good  prob_1  prob_2  prob_3  prob_4  prob_5  score_label  \n",
       "0                 0    0.67    0.33    0.00    0.00     0.0            1  \n",
       "1                 0    0.67    0.33    0.00    0.00     0.0            1  \n",
       "2                 1    0.00    0.00    0.33    0.67     0.0            4  \n",
       "3                 0    0.00    1.00    0.00    0.00     0.0            2  \n",
       "4                 1    0.00    0.00    0.00    1.00     0.0            4  "
      ]
     },
     "execution_count": 8,
     "metadata": {},
     "output_type": "execute_result"
    }
   ],
   "source": [
    "mp_formWise_aesScores = get_form_aesScores(raw_aestheticScores_df)\n",
    "print(len(mp_formWise_aesScores))\n",
    "\n",
    "hw_aes_df = prepare_hwAesthetics_df(mp_formWise_aesScores)\n",
    "hw_aes_df.head()"
   ]
  },
  {
   "cell_type": "code",
   "execution_count": 9,
   "id": "db8924ad",
   "metadata": {},
   "outputs": [
    {
     "data": {
      "text/html": [
       "<div>\n",
       "<style scoped>\n",
       "    .dataframe tbody tr th:only-of-type {\n",
       "        vertical-align: middle;\n",
       "    }\n",
       "\n",
       "    .dataframe tbody tr th {\n",
       "        vertical-align: top;\n",
       "    }\n",
       "\n",
       "    .dataframe thead th {\n",
       "        text-align: right;\n",
       "    }\n",
       "</style>\n",
       "<table border=\"1\" class=\"dataframe\">\n",
       "  <thead>\n",
       "    <tr style=\"text-align: right;\">\n",
       "      <th></th>\n",
       "      <th>image_file_name</th>\n",
       "      <th>aesthetic_score</th>\n",
       "      <th>aesthetic_quality</th>\n",
       "      <th>probability_good</th>\n",
       "      <th>prob_1</th>\n",
       "      <th>prob_2</th>\n",
       "      <th>prob_3</th>\n",
       "      <th>prob_4</th>\n",
       "      <th>prob_5</th>\n",
       "      <th>score_label</th>\n",
       "    </tr>\n",
       "  </thead>\n",
       "  <tbody>\n",
       "    <tr>\n",
       "      <th>166100</th>\n",
       "      <td>02_0002_0_20_1016_0800_84.png</td>\n",
       "      <td>1.000000</td>\n",
       "      <td>bad</td>\n",
       "      <td>0</td>\n",
       "      <td>1.00</td>\n",
       "      <td>0.00</td>\n",
       "      <td>0.00</td>\n",
       "      <td>0.0</td>\n",
       "      <td>0.0</td>\n",
       "      <td>1</td>\n",
       "    </tr>\n",
       "    <tr>\n",
       "      <th>166101</th>\n",
       "      <td>01_0001_1_18_0916_1880_84.png</td>\n",
       "      <td>4.000000</td>\n",
       "      <td>good</td>\n",
       "      <td>1</td>\n",
       "      <td>0.00</td>\n",
       "      <td>0.00</td>\n",
       "      <td>0.00</td>\n",
       "      <td>1.0</td>\n",
       "      <td>0.0</td>\n",
       "      <td>4</td>\n",
       "    </tr>\n",
       "    <tr>\n",
       "      <th>166102</th>\n",
       "      <td>02_0002_0_20_1016_0877_84.png</td>\n",
       "      <td>1.000000</td>\n",
       "      <td>bad</td>\n",
       "      <td>0</td>\n",
       "      <td>1.00</td>\n",
       "      <td>0.00</td>\n",
       "      <td>0.00</td>\n",
       "      <td>0.0</td>\n",
       "      <td>0.0</td>\n",
       "      <td>1</td>\n",
       "    </tr>\n",
       "    <tr>\n",
       "      <th>166103</th>\n",
       "      <td>02_0002_0_21_1016_1395_84.png</td>\n",
       "      <td>1.666667</td>\n",
       "      <td>bad</td>\n",
       "      <td>0</td>\n",
       "      <td>0.33</td>\n",
       "      <td>0.67</td>\n",
       "      <td>0.00</td>\n",
       "      <td>0.0</td>\n",
       "      <td>0.0</td>\n",
       "      <td>2</td>\n",
       "    </tr>\n",
       "    <tr>\n",
       "      <th>166104</th>\n",
       "      <td>02_0002_0_19_1016_0812_84.png</td>\n",
       "      <td>2.666667</td>\n",
       "      <td>good</td>\n",
       "      <td>1</td>\n",
       "      <td>0.00</td>\n",
       "      <td>0.33</td>\n",
       "      <td>0.67</td>\n",
       "      <td>0.0</td>\n",
       "      <td>0.0</td>\n",
       "      <td>3</td>\n",
       "    </tr>\n",
       "  </tbody>\n",
       "</table>\n",
       "</div>"
      ],
      "text/plain": [
       "                      image_file_name  aesthetic_score aesthetic_quality  \\\n",
       "166100  02_0002_0_20_1016_0800_84.png         1.000000               bad   \n",
       "166101  01_0001_1_18_0916_1880_84.png         4.000000              good   \n",
       "166102  02_0002_0_20_1016_0877_84.png         1.000000               bad   \n",
       "166103  02_0002_0_21_1016_1395_84.png         1.666667               bad   \n",
       "166104  02_0002_0_19_1016_0812_84.png         2.666667              good   \n",
       "\n",
       "        probability_good  prob_1  prob_2  prob_3  prob_4  prob_5  score_label  \n",
       "166100                 0    1.00    0.00    0.00     0.0     0.0            1  \n",
       "166101                 1    0.00    0.00    0.00     1.0     0.0            4  \n",
       "166102                 0    1.00    0.00    0.00     0.0     0.0            1  \n",
       "166103                 0    0.33    0.67    0.00     0.0     0.0            2  \n",
       "166104                 1    0.00    0.33    0.67     0.0     0.0            3  "
      ]
     },
     "execution_count": 9,
     "metadata": {},
     "output_type": "execute_result"
    }
   ],
   "source": [
    "hw_aes_df.tail()"
   ]
  },
  {
   "cell_type": "code",
   "execution_count": 10,
   "id": "1404d66b",
   "metadata": {},
   "outputs": [
    {
     "name": "stdout",
     "output_type": "stream",
     "text": [
      "<class 'pandas.core.frame.DataFrame'>\n",
      "RangeIndex: 166105 entries, 0 to 166104\n",
      "Data columns (total 10 columns):\n",
      " #   Column             Non-Null Count   Dtype  \n",
      "---  ------             --------------   -----  \n",
      " 0   image_file_name    166105 non-null  object \n",
      " 1   aesthetic_score    166105 non-null  float64\n",
      " 2   aesthetic_quality  166105 non-null  object \n",
      " 3   probability_good   166105 non-null  int64  \n",
      " 4   prob_1             166105 non-null  float64\n",
      " 5   prob_2             166105 non-null  float64\n",
      " 6   prob_3             166105 non-null  float64\n",
      " 7   prob_4             166105 non-null  float64\n",
      " 8   prob_5             166105 non-null  float64\n",
      " 9   score_label        166105 non-null  int64  \n",
      "dtypes: float64(6), int64(2), object(2)\n",
      "memory usage: 12.7+ MB\n"
     ]
    }
   ],
   "source": [
    "hw_aes_df.info()"
   ]
  },
  {
   "cell_type": "code",
   "execution_count": 11,
   "id": "03ead700",
   "metadata": {},
   "outputs": [
    {
     "data": {
      "text/plain": [
       "3    49931\n",
       "2    49851\n",
       "1    37121\n",
       "4    26347\n",
       "5     2855\n",
       "Name: score_label, dtype: int64"
      ]
     },
     "execution_count": 11,
     "metadata": {},
     "output_type": "execute_result"
    }
   ],
   "source": [
    "hw_aes_df['score_label'].value_counts()"
   ]
  },
  {
   "cell_type": "code",
   "execution_count": 12,
   "id": "c256da73",
   "metadata": {},
   "outputs": [],
   "source": [
    "# save prepared dataframe as csv file\n",
    "hw_aes_df.to_csv(os.path.join('..', 'dataset', 'prepared-datasets', 'aesthetics_all.csv'), index=False)"
   ]
  },
  {
   "cell_type": "markdown",
   "id": "2dd41dde",
   "metadata": {},
   "source": [
    "  \n",
    "  ## Forming the Train, Validation & Test sets for 'Good', 'Bad' \n",
    "  "
   ]
  },
  {
   "cell_type": "code",
   "execution_count": 13,
   "id": "7865bf9e",
   "metadata": {},
   "outputs": [
    {
     "data": {
      "text/html": [
       "<div>\n",
       "<style scoped>\n",
       "    .dataframe tbody tr th:only-of-type {\n",
       "        vertical-align: middle;\n",
       "    }\n",
       "\n",
       "    .dataframe tbody tr th {\n",
       "        vertical-align: top;\n",
       "    }\n",
       "\n",
       "    .dataframe thead th {\n",
       "        text-align: right;\n",
       "    }\n",
       "</style>\n",
       "<table border=\"1\" class=\"dataframe\">\n",
       "  <thead>\n",
       "    <tr style=\"text-align: right;\">\n",
       "      <th></th>\n",
       "      <th>Form No</th>\n",
       "      <th>Out Of 5 (1st Person)</th>\n",
       "      <th>Out of 5 (2nd Person)</th>\n",
       "      <th>Out of 5 (3rd Person)</th>\n",
       "      <th>Average</th>\n",
       "    </tr>\n",
       "  </thead>\n",
       "  <tbody>\n",
       "    <tr>\n",
       "      <th>0</th>\n",
       "      <td>1</td>\n",
       "      <td>2</td>\n",
       "      <td>4</td>\n",
       "      <td>5</td>\n",
       "      <td>3.666667</td>\n",
       "    </tr>\n",
       "    <tr>\n",
       "      <th>1</th>\n",
       "      <td>2</td>\n",
       "      <td>1</td>\n",
       "      <td>3</td>\n",
       "      <td>4</td>\n",
       "      <td>2.666667</td>\n",
       "    </tr>\n",
       "    <tr>\n",
       "      <th>2</th>\n",
       "      <td>3</td>\n",
       "      <td>3</td>\n",
       "      <td>5</td>\n",
       "      <td>4</td>\n",
       "      <td>4.000000</td>\n",
       "    </tr>\n",
       "    <tr>\n",
       "      <th>3</th>\n",
       "      <td>4</td>\n",
       "      <td>2</td>\n",
       "      <td>3</td>\n",
       "      <td>4</td>\n",
       "      <td>3.000000</td>\n",
       "    </tr>\n",
       "    <tr>\n",
       "      <th>4</th>\n",
       "      <td>5</td>\n",
       "      <td>1</td>\n",
       "      <td>3</td>\n",
       "      <td>3</td>\n",
       "      <td>2.333333</td>\n",
       "    </tr>\n",
       "  </tbody>\n",
       "</table>\n",
       "</div>"
      ],
      "text/plain": [
       "   Form No  Out Of 5 (1st Person)  Out of 5 (2nd Person)  \\\n",
       "0        1                      2                      4   \n",
       "1        2                      1                      3   \n",
       "2        3                      3                      5   \n",
       "3        4                      2                      3   \n",
       "4        5                      1                      3   \n",
       "\n",
       "   Out of 5 (3rd Person)   Average  \n",
       "0                      5  3.666667  \n",
       "1                      4  2.666667  \n",
       "2                      4  4.000000  \n",
       "3                      4  3.000000  \n",
       "4                      3  2.333333  "
      ]
     },
     "execution_count": 13,
     "metadata": {},
     "output_type": "execute_result"
    }
   ],
   "source": [
    "raw_aestheticScores_df.head()"
   ]
  },
  {
   "cell_type": "code",
   "execution_count": 14,
   "id": "29446e47",
   "metadata": {},
   "outputs": [
    {
     "data": {
      "text/html": [
       "<div>\n",
       "<style scoped>\n",
       "    .dataframe tbody tr th:only-of-type {\n",
       "        vertical-align: middle;\n",
       "    }\n",
       "\n",
       "    .dataframe tbody tr th {\n",
       "        vertical-align: top;\n",
       "    }\n",
       "\n",
       "    .dataframe thead th {\n",
       "        text-align: right;\n",
       "    }\n",
       "</style>\n",
       "<table border=\"1\" class=\"dataframe\">\n",
       "  <thead>\n",
       "    <tr style=\"text-align: right;\">\n",
       "      <th></th>\n",
       "      <th>Form No</th>\n",
       "      <th>Average</th>\n",
       "    </tr>\n",
       "  </thead>\n",
       "  <tbody>\n",
       "    <tr>\n",
       "      <th>0</th>\n",
       "      <td>1</td>\n",
       "      <td>3.666667</td>\n",
       "    </tr>\n",
       "    <tr>\n",
       "      <th>1</th>\n",
       "      <td>2</td>\n",
       "      <td>2.666667</td>\n",
       "    </tr>\n",
       "    <tr>\n",
       "      <th>2</th>\n",
       "      <td>3</td>\n",
       "      <td>4.000000</td>\n",
       "    </tr>\n",
       "    <tr>\n",
       "      <th>3</th>\n",
       "      <td>4</td>\n",
       "      <td>3.000000</td>\n",
       "    </tr>\n",
       "    <tr>\n",
       "      <th>4</th>\n",
       "      <td>5</td>\n",
       "      <td>2.333333</td>\n",
       "    </tr>\n",
       "  </tbody>\n",
       "</table>\n",
       "</div>"
      ],
      "text/plain": [
       "   Form No   Average\n",
       "0        1  3.666667\n",
       "1        2  2.666667\n",
       "2        3  4.000000\n",
       "3        4  3.000000\n",
       "4        5  2.333333"
      ]
     },
     "execution_count": 14,
     "metadata": {},
     "output_type": "execute_result"
    }
   ],
   "source": [
    "# drop unnecessary columns\n",
    "raw_aestheticScores_df = raw_aestheticScores_df[['Form No', 'Average']]\n",
    "raw_aestheticScores_df.head()"
   ]
  },
  {
   "cell_type": "code",
   "execution_count": 15,
   "id": "91d0239a",
   "metadata": {},
   "outputs": [
    {
     "data": {
      "text/html": [
       "<div>\n",
       "<style scoped>\n",
       "    .dataframe tbody tr th:only-of-type {\n",
       "        vertical-align: middle;\n",
       "    }\n",
       "\n",
       "    .dataframe tbody tr th {\n",
       "        vertical-align: top;\n",
       "    }\n",
       "\n",
       "    .dataframe thead th {\n",
       "        text-align: right;\n",
       "    }\n",
       "</style>\n",
       "<table border=\"1\" class=\"dataframe\">\n",
       "  <thead>\n",
       "    <tr style=\"text-align: right;\">\n",
       "      <th></th>\n",
       "      <th>Form No</th>\n",
       "      <th>Average</th>\n",
       "      <th>aesthetic_quality</th>\n",
       "    </tr>\n",
       "  </thead>\n",
       "  <tbody>\n",
       "    <tr>\n",
       "      <th>0</th>\n",
       "      <td>1</td>\n",
       "      <td>3.666667</td>\n",
       "      <td>good</td>\n",
       "    </tr>\n",
       "    <tr>\n",
       "      <th>1</th>\n",
       "      <td>2</td>\n",
       "      <td>2.666667</td>\n",
       "      <td>good</td>\n",
       "    </tr>\n",
       "    <tr>\n",
       "      <th>2</th>\n",
       "      <td>3</td>\n",
       "      <td>4.000000</td>\n",
       "      <td>good</td>\n",
       "    </tr>\n",
       "    <tr>\n",
       "      <th>3</th>\n",
       "      <td>4</td>\n",
       "      <td>3.000000</td>\n",
       "      <td>good</td>\n",
       "    </tr>\n",
       "    <tr>\n",
       "      <th>4</th>\n",
       "      <td>5</td>\n",
       "      <td>2.333333</td>\n",
       "      <td>bad</td>\n",
       "    </tr>\n",
       "  </tbody>\n",
       "</table>\n",
       "</div>"
      ],
      "text/plain": [
       "   Form No   Average aesthetic_quality\n",
       "0        1  3.666667              good\n",
       "1        2  2.666667              good\n",
       "2        3  4.000000              good\n",
       "3        4  3.000000              good\n",
       "4        5  2.333333               bad"
      ]
     },
     "execution_count": 15,
     "metadata": {},
     "output_type": "execute_result"
    }
   ],
   "source": [
    "# create column for labels- 'good', 'bad'\n",
    "aesthetics_labels = []\n",
    "for aes_score in raw_aestheticScores_df['Average']:\n",
    "    if aes_score >= MEAN_AES_SCORE:\n",
    "        aesthetics_labels.append('good')\n",
    "    else:\n",
    "        aesthetics_labels.append('bad')\n",
    "\n",
    "raw_aestheticScores_df['aesthetic_quality'] = aesthetics_labels\n",
    "\n",
    "raw_aestheticScores_df.head()"
   ]
  },
  {
   "cell_type": "code",
   "execution_count": 16,
   "id": "1c1ecc94",
   "metadata": {},
   "outputs": [],
   "source": [
    "'''\n",
    "params- raw_df_with_label: dataframe created using original dataset's aesthetic scores in with class label\n",
    "        label_name: name of the class label, such as- 'aesthetic_quality', 'score_label'\n",
    "returns- train, test, validation dataframes split in 80:20 ratio\n",
    "'''\n",
    "def prep_train_val_test_dfs(raw_df_with_label, label_name):\n",
    "    # split train:test - 80:20 keeping label ratio stratified\n",
    "    train_raw_df, test_raw_df = train_test_split(raw_df_with_label, test_size=0.2, random_state=42, shuffle=True, \n",
    "                                                 stratify=raw_df_with_label[label_name])\n",
    "\n",
    "    # split train:validation - 80:20 keeping label ratio stratified\n",
    "    train_raw_df, val_raw_df = train_test_split(train_raw_df, test_size=0.2, random_state=42, shuffle=True, \n",
    "                                                 stratify=train_raw_df[label_name])\n",
    "    \n",
    "    return prepare_hwAesthetics_df(get_form_aesScores(train_raw_df)), prepare_hwAesthetics_df(get_form_aesScores(val_raw_df)),prepare_hwAesthetics_df(get_form_aesScores(test_raw_df))"
   ]
  },
  {
   "cell_type": "code",
   "execution_count": 17,
   "id": "722832c7",
   "metadata": {},
   "outputs": [],
   "source": [
    "train_hwAes_df, val_hwAes_df, test_hwAes_df = prep_train_val_test_dfs(raw_aestheticScores_df, 'aesthetic_quality')"
   ]
  },
  {
   "cell_type": "code",
   "execution_count": 18,
   "id": "9deb9b29",
   "metadata": {},
   "outputs": [
    {
     "data": {
      "text/plain": [
       "bad     55525\n",
       "good    50703\n",
       "Name: aesthetic_quality, dtype: int64"
      ]
     },
     "execution_count": 18,
     "metadata": {},
     "output_type": "execute_result"
    }
   ],
   "source": [
    "train_hwAes_df['aesthetic_quality'].value_counts()"
   ]
  },
  {
   "cell_type": "code",
   "execution_count": 19,
   "id": "4d32e5e9",
   "metadata": {},
   "outputs": [
    {
     "data": {
      "text/plain": [
       "bad     13988\n",
       "good    12487\n",
       "Name: aesthetic_quality, dtype: int64"
      ]
     },
     "execution_count": 19,
     "metadata": {},
     "output_type": "execute_result"
    }
   ],
   "source": [
    "val_hwAes_df['aesthetic_quality'].value_counts()"
   ]
  },
  {
   "cell_type": "code",
   "execution_count": 20,
   "id": "a9a448ea",
   "metadata": {},
   "outputs": [
    {
     "data": {
      "text/plain": [
       "bad     17459\n",
       "good    15943\n",
       "Name: aesthetic_quality, dtype: int64"
      ]
     },
     "execution_count": 20,
     "metadata": {},
     "output_type": "execute_result"
    }
   ],
   "source": [
    "test_hwAes_df['aesthetic_quality'].value_counts()"
   ]
  },
  {
   "cell_type": "code",
   "execution_count": 21,
   "id": "21314dd6",
   "metadata": {},
   "outputs": [],
   "source": [
    "# drop columns not related to aesthetic quality\n",
    "train_hwAes_df = train_hwAes_df.drop(columns=['prob_1', 'prob_2', 'prob_3', 'prob_4', 'prob_5', 'score_label'])\n",
    "val_hwAes_df = val_hwAes_df.drop(columns=['prob_1', 'prob_2', 'prob_3', 'prob_4', 'prob_5', 'score_label'])\n",
    "test_hwAes_df = test_hwAes_df.drop(columns=['prob_1', 'prob_2', 'prob_3', 'prob_4', 'prob_5', 'score_label'])\n",
    "\n",
    "# save prepared dataframes as csv file\n",
    "train_hwAes_df.to_csv(os.path.join('..', 'dataset', 'prepared-datasets', '2_class', 'aesthetics_train.csv'), index=False)\n",
    "val_hwAes_df.to_csv(os.path.join('..', 'dataset', 'prepared-datasets', '2_class', 'aesthetics_val.csv'), index=False)\n",
    "test_hwAes_df.to_csv(os.path.join('..', 'dataset', 'prepared-datasets', '2_class', 'aesthetics_test.csv'), index=False)"
   ]
  },
  {
   "cell_type": "markdown",
   "id": "7a3a48e7",
   "metadata": {},
   "source": [
    "  \n",
    "  ## Split the sample images dataset to separate train, validation, test folders for 2 classes\n",
    "  "
   ]
  },
  {
   "cell_type": "code",
   "execution_count": 22,
   "id": "a9482a3e",
   "metadata": {},
   "outputs": [],
   "source": [
    "'''\n",
    "params- dataframe with image file names\n",
    "returns set of image file names\n",
    "'''\n",
    "def get_img_file_names(hwAes_df):\n",
    "    img_file_names = set()\n",
    "    for img in hwAes_df['image_file_name']:\n",
    "        img_file_names.add(img)\n",
    "    \n",
    "    return img_file_names\n",
    "\n",
    "def prep_train_val_test_images(train_df, val_df, test_df, dest_folder_name):\n",
    "    # create set of image file names\n",
    "    train_img_files = get_img_file_names(train_df)\n",
    "    val_img_files = get_img_file_names(val_df)\n",
    "    test_img_files = get_img_file_names(test_df)\n",
    "\n",
    "    print(len(train_img_files)+len(val_img_files)+len(test_img_files))\n",
    "    print(train_img_files&val_img_files, train_img_files&test_img_files, val_img_files&test_img_files)\n",
    "    \n",
    "    # copy (and replace) files to corresponding destination folders\n",
    "\n",
    "    images_dir = os.path.join('..', 'dataset', 'BanglaLekha-Isolated', 'Images')\n",
    "\n",
    "    for i in range(1, 84+1):\n",
    "        curr_dir = os.path.join(images_dir, str(i))\n",
    "\n",
    "        for file_name in os.listdir(curr_dir): \n",
    "            if os.path.isfile(os.path.join(curr_dir, file_name)) == False:\n",
    "                continue \n",
    "\n",
    "            curr_path = os.path.join(curr_dir, file_name)\n",
    "            dest_path = os.path.join('..', 'dataset', 'prepared-datasets', dest_folder_name)\n",
    "\n",
    "            dest_folder='unknown'        \n",
    "            if file_name in train_img_files:\n",
    "                dest_folder = 'train_images'\n",
    "            elif file_name in val_img_files:\n",
    "                dest_folder = 'validation_images'\n",
    "            elif file_name in test_img_files:\n",
    "                dest_folder = 'test_images'\n",
    "\n",
    "            dest_path = os.path.join(dest_path, dest_folder)\n",
    "\n",
    "            shutil.copy(curr_path, dest_path)\n",
    "            \n",
    "    print('images test-validation-train partition created')"
   ]
  },
  {
   "cell_type": "code",
   "execution_count": 23,
   "id": "2a925cc0",
   "metadata": {},
   "outputs": [
    {
     "name": "stdout",
     "output_type": "stream",
     "text": [
      "166105\n",
      "set() set() set()\n",
      "images test-validation-train partition created\n"
     ]
    }
   ],
   "source": [
    "prep_train_val_test_images(train_hwAes_df, val_hwAes_df, test_hwAes_df, '2_class')"
   ]
  },
  {
   "cell_type": "markdown",
   "id": "11005063",
   "metadata": {},
   "source": [
    "  \n",
    "  ## Forming the Train, Validation & Test sets for score_label = [1, 5] \n",
    "  "
   ]
  },
  {
   "cell_type": "code",
   "execution_count": 24,
   "id": "cd3cb18c",
   "metadata": {},
   "outputs": [
    {
     "data": {
      "text/html": [
       "<div>\n",
       "<style scoped>\n",
       "    .dataframe tbody tr th:only-of-type {\n",
       "        vertical-align: middle;\n",
       "    }\n",
       "\n",
       "    .dataframe tbody tr th {\n",
       "        vertical-align: top;\n",
       "    }\n",
       "\n",
       "    .dataframe thead th {\n",
       "        text-align: right;\n",
       "    }\n",
       "</style>\n",
       "<table border=\"1\" class=\"dataframe\">\n",
       "  <thead>\n",
       "    <tr style=\"text-align: right;\">\n",
       "      <th></th>\n",
       "      <th>Form No</th>\n",
       "      <th>Average</th>\n",
       "    </tr>\n",
       "  </thead>\n",
       "  <tbody>\n",
       "    <tr>\n",
       "      <th>0</th>\n",
       "      <td>1</td>\n",
       "      <td>3.666667</td>\n",
       "    </tr>\n",
       "    <tr>\n",
       "      <th>1</th>\n",
       "      <td>2</td>\n",
       "      <td>2.666667</td>\n",
       "    </tr>\n",
       "    <tr>\n",
       "      <th>2</th>\n",
       "      <td>3</td>\n",
       "      <td>4.000000</td>\n",
       "    </tr>\n",
       "    <tr>\n",
       "      <th>3</th>\n",
       "      <td>4</td>\n",
       "      <td>3.000000</td>\n",
       "    </tr>\n",
       "    <tr>\n",
       "      <th>4</th>\n",
       "      <td>5</td>\n",
       "      <td>2.333333</td>\n",
       "    </tr>\n",
       "  </tbody>\n",
       "</table>\n",
       "</div>"
      ],
      "text/plain": [
       "   Form No   Average\n",
       "0        1  3.666667\n",
       "1        2  2.666667\n",
       "2        3  4.000000\n",
       "3        4  3.000000\n",
       "4        5  2.333333"
      ]
     },
     "execution_count": 24,
     "metadata": {},
     "output_type": "execute_result"
    }
   ],
   "source": [
    "# drop unnecessary columns\n",
    "raw_scoreLabels_df = raw_aestheticScores_df[['Form No', 'Average']]\n",
    "raw_scoreLabels_df.head()"
   ]
  },
  {
   "cell_type": "code",
   "execution_count": 25,
   "id": "879344f1",
   "metadata": {},
   "outputs": [
    {
     "data": {
      "text/html": [
       "<div>\n",
       "<style scoped>\n",
       "    .dataframe tbody tr th:only-of-type {\n",
       "        vertical-align: middle;\n",
       "    }\n",
       "\n",
       "    .dataframe tbody tr th {\n",
       "        vertical-align: top;\n",
       "    }\n",
       "\n",
       "    .dataframe thead th {\n",
       "        text-align: right;\n",
       "    }\n",
       "</style>\n",
       "<table border=\"1\" class=\"dataframe\">\n",
       "  <thead>\n",
       "    <tr style=\"text-align: right;\">\n",
       "      <th></th>\n",
       "      <th>Form No</th>\n",
       "      <th>Average</th>\n",
       "      <th>score_label</th>\n",
       "    </tr>\n",
       "  </thead>\n",
       "  <tbody>\n",
       "    <tr>\n",
       "      <th>0</th>\n",
       "      <td>1</td>\n",
       "      <td>3.666667</td>\n",
       "      <td>4</td>\n",
       "    </tr>\n",
       "    <tr>\n",
       "      <th>1</th>\n",
       "      <td>2</td>\n",
       "      <td>2.666667</td>\n",
       "      <td>3</td>\n",
       "    </tr>\n",
       "    <tr>\n",
       "      <th>2</th>\n",
       "      <td>3</td>\n",
       "      <td>4.000000</td>\n",
       "      <td>4</td>\n",
       "    </tr>\n",
       "    <tr>\n",
       "      <th>3</th>\n",
       "      <td>4</td>\n",
       "      <td>3.000000</td>\n",
       "      <td>3</td>\n",
       "    </tr>\n",
       "    <tr>\n",
       "      <th>4</th>\n",
       "      <td>5</td>\n",
       "      <td>2.333333</td>\n",
       "      <td>2</td>\n",
       "    </tr>\n",
       "  </tbody>\n",
       "</table>\n",
       "</div>"
      ],
      "text/plain": [
       "   Form No   Average  score_label\n",
       "0        1  3.666667            4\n",
       "1        2  2.666667            3\n",
       "2        3  4.000000            4\n",
       "3        4  3.000000            3\n",
       "4        5  2.333333            2"
      ]
     },
     "execution_count": 25,
     "metadata": {},
     "output_type": "execute_result"
    }
   ],
   "source": [
    "# create column for score_labels- 1, 2, 3, 4, 5\n",
    "score_labels = [round(aes_score) for aes_score in raw_aestheticScores_df['Average']]\n",
    "\n",
    "raw_scoreLabels_df['score_label'] = score_labels\n",
    "\n",
    "raw_scoreLabels_df.head()"
   ]
  },
  {
   "cell_type": "code",
   "execution_count": 26,
   "id": "b56eb20f",
   "metadata": {},
   "outputs": [
    {
     "data": {
      "text/plain": [
       "3    599\n",
       "2    596\n",
       "1    451\n",
       "4    319\n",
       "5     35\n",
       "Name: score_label, dtype: int64"
      ]
     },
     "execution_count": 26,
     "metadata": {},
     "output_type": "execute_result"
    }
   ],
   "source": [
    "raw_scoreLabels_df['score_label'].value_counts()"
   ]
  },
  {
   "cell_type": "code",
   "execution_count": 27,
   "id": "c554fe0f",
   "metadata": {},
   "outputs": [],
   "source": [
    "train_hwScore_df, val_hwScore_df, test_hwScore_df = prep_train_val_test_dfs(raw_scoreLabels_df, 'score_label')"
   ]
  },
  {
   "cell_type": "code",
   "execution_count": 28,
   "id": "9473c1d2",
   "metadata": {},
   "outputs": [
    {
     "data": {
      "text/plain": [
       "3    32086\n",
       "2    31949\n",
       "1    23865\n",
       "4    16950\n",
       "5     1847\n",
       "Name: score_label, dtype: int64"
      ]
     },
     "execution_count": 28,
     "metadata": {},
     "output_type": "execute_result"
    }
   ],
   "source": [
    "train_hwScore_df['score_label'].value_counts()"
   ]
  },
  {
   "cell_type": "code",
   "execution_count": 29,
   "id": "b5dd08cb",
   "metadata": {},
   "outputs": [
    {
     "data": {
      "text/plain": [
       "2    7948\n",
       "3    7882\n",
       "1    5798\n",
       "4    4028\n",
       "5     420\n",
       "Name: score_label, dtype: int64"
      ]
     },
     "execution_count": 29,
     "metadata": {},
     "output_type": "execute_result"
    }
   ],
   "source": [
    "val_hwScore_df['score_label'].value_counts()"
   ]
  },
  {
   "cell_type": "code",
   "execution_count": 30,
   "id": "d8b48c18",
   "metadata": {},
   "outputs": [
    {
     "data": {
      "text/plain": [
       "3    9963\n",
       "2    9954\n",
       "1    7458\n",
       "4    5369\n",
       "5     588\n",
       "Name: score_label, dtype: int64"
      ]
     },
     "execution_count": 30,
     "metadata": {},
     "output_type": "execute_result"
    }
   ],
   "source": [
    "test_hwScore_df['score_label'].value_counts()"
   ]
  },
  {
   "cell_type": "code",
   "execution_count": 31,
   "id": "3ead941b",
   "metadata": {},
   "outputs": [],
   "source": [
    "# remove information not related to score_label\n",
    "train_hwScore_df = train_hwScore_df.drop(columns=['aesthetic_quality', 'probability_good'])\n",
    "val_hwScore_df = val_hwScore_df.drop(columns=['aesthetic_quality', 'probability_good'])\n",
    "test_hwScore_df = test_hwScore_df.drop(columns=['aesthetic_quality', 'probability_good'])\n",
    "\n",
    "# save prepared dataframes as csv file\n",
    "train_hwScore_df.to_csv(os.path.join('..', 'dataset', 'prepared-datasets', '5_class', 'scoreLabel_train.csv'), index=False)\n",
    "val_hwScore_df.to_csv(os.path.join('..', 'dataset', 'prepared-datasets', '5_class', 'scoreLabel_val.csv'), index=False)\n",
    "test_hwScore_df.to_csv(os.path.join('..', 'dataset', 'prepared-datasets', '5_class', 'scoreLabel_test.csv'), index=False)"
   ]
  },
  {
   "cell_type": "markdown",
   "id": "b5cbcade",
   "metadata": {},
   "source": [
    "  \n",
    "  ## Split the sample images dataset to separate train, validation, test folders for 5 classes\n",
    "  "
   ]
  },
  {
   "cell_type": "code",
   "execution_count": 32,
   "id": "7b85cd18",
   "metadata": {},
   "outputs": [
    {
     "name": "stdout",
     "output_type": "stream",
     "text": [
      "166105\n",
      "set() set() set()\n",
      "images test-validation-train partition created\n"
     ]
    }
   ],
   "source": [
    "prep_train_val_test_images(train_hwScore_df, val_hwScore_df, test_hwScore_df, '5_class')"
   ]
  },
  {
   "cell_type": "markdown",
   "id": "7777445a",
   "metadata": {},
   "source": [
    "## Set actual probability_good value to 2_class csv files for Binary Classification"
   ]
  },
  {
   "cell_type": "code",
   "execution_count": 2,
   "id": "9693e456",
   "metadata": {},
   "outputs": [],
   "source": [
    "def fix_bin_classification_csv(df):\n",
    "    aes_scores = df['aesthetic_score']\n",
    "    actual_prob_goods = [score/5.0 for score in aes_scores]\n",
    "    df['actual_prob_good'] = actual_prob_goods\n",
    "    \n",
    "    return df"
   ]
  },
  {
   "cell_type": "code",
   "execution_count": 5,
   "id": "32ac341d",
   "metadata": {},
   "outputs": [
    {
     "data": {
      "text/html": [
       "<div>\n",
       "<style scoped>\n",
       "    .dataframe tbody tr th:only-of-type {\n",
       "        vertical-align: middle;\n",
       "    }\n",
       "\n",
       "    .dataframe tbody tr th {\n",
       "        vertical-align: top;\n",
       "    }\n",
       "\n",
       "    .dataframe thead th {\n",
       "        text-align: right;\n",
       "    }\n",
       "</style>\n",
       "<table border=\"1\" class=\"dataframe\">\n",
       "  <thead>\n",
       "    <tr style=\"text-align: right;\">\n",
       "      <th></th>\n",
       "      <th>image_file_name</th>\n",
       "      <th>aesthetic_score</th>\n",
       "      <th>aesthetic_quality</th>\n",
       "      <th>probability_good</th>\n",
       "      <th>actual_prob_good</th>\n",
       "    </tr>\n",
       "  </thead>\n",
       "  <tbody>\n",
       "    <tr>\n",
       "      <th>0</th>\n",
       "      <td>02_0002_0_23_1016_1067_1.png</td>\n",
       "      <td>1.333333</td>\n",
       "      <td>bad</td>\n",
       "      <td>0</td>\n",
       "      <td>0.266667</td>\n",
       "    </tr>\n",
       "    <tr>\n",
       "      <th>1</th>\n",
       "      <td>02_0002_0_23_1016_1730_1.png</td>\n",
       "      <td>1.333333</td>\n",
       "      <td>bad</td>\n",
       "      <td>0</td>\n",
       "      <td>0.266667</td>\n",
       "    </tr>\n",
       "    <tr>\n",
       "      <th>2</th>\n",
       "      <td>02_0002_0_24_1016_1542_1.png</td>\n",
       "      <td>2.000000</td>\n",
       "      <td>bad</td>\n",
       "      <td>0</td>\n",
       "      <td>0.400000</td>\n",
       "    </tr>\n",
       "    <tr>\n",
       "      <th>3</th>\n",
       "      <td>01_0001_1_16_0916_0320_1.png</td>\n",
       "      <td>4.000000</td>\n",
       "      <td>good</td>\n",
       "      <td>1</td>\n",
       "      <td>0.800000</td>\n",
       "    </tr>\n",
       "    <tr>\n",
       "      <th>4</th>\n",
       "      <td>02_0002_0_21_1016_0988_1.png</td>\n",
       "      <td>1.333333</td>\n",
       "      <td>bad</td>\n",
       "      <td>0</td>\n",
       "      <td>0.266667</td>\n",
       "    </tr>\n",
       "  </tbody>\n",
       "</table>\n",
       "</div>"
      ],
      "text/plain": [
       "                image_file_name  aesthetic_score aesthetic_quality  \\\n",
       "0  02_0002_0_23_1016_1067_1.png         1.333333               bad   \n",
       "1  02_0002_0_23_1016_1730_1.png         1.333333               bad   \n",
       "2  02_0002_0_24_1016_1542_1.png         2.000000               bad   \n",
       "3  01_0001_1_16_0916_0320_1.png         4.000000              good   \n",
       "4  02_0002_0_21_1016_0988_1.png         1.333333               bad   \n",
       "\n",
       "   probability_good  actual_prob_good  \n",
       "0                 0          0.266667  \n",
       "1                 0          0.266667  \n",
       "2                 0          0.400000  \n",
       "3                 1          0.800000  \n",
       "4                 0          0.266667  "
      ]
     },
     "execution_count": 5,
     "metadata": {},
     "output_type": "execute_result"
    }
   ],
   "source": [
    "train_df = pd.read_csv(os.path.join('..', 'dataset', 'prepared-datasets', '2_class', 'aesthetics_train.csv'))\n",
    "train_df = fix_bin_classification_csv(train_df)\n",
    "train_df.head()"
   ]
  },
  {
   "cell_type": "code",
   "execution_count": 7,
   "id": "70cf75c3",
   "metadata": {},
   "outputs": [
    {
     "data": {
      "text/html": [
       "<div>\n",
       "<style scoped>\n",
       "    .dataframe tbody tr th:only-of-type {\n",
       "        vertical-align: middle;\n",
       "    }\n",
       "\n",
       "    .dataframe tbody tr th {\n",
       "        vertical-align: top;\n",
       "    }\n",
       "\n",
       "    .dataframe thead th {\n",
       "        text-align: right;\n",
       "    }\n",
       "</style>\n",
       "<table border=\"1\" class=\"dataframe\">\n",
       "  <thead>\n",
       "    <tr style=\"text-align: right;\">\n",
       "      <th></th>\n",
       "      <th>image_file_name</th>\n",
       "      <th>aesthetic_score</th>\n",
       "      <th>aesthetic_quality</th>\n",
       "      <th>probability_good</th>\n",
       "      <th>actual_prob_good</th>\n",
       "    </tr>\n",
       "  </thead>\n",
       "  <tbody>\n",
       "    <tr>\n",
       "      <th>0</th>\n",
       "      <td>01_0001_0_15_0916_0422_1.png</td>\n",
       "      <td>3.666667</td>\n",
       "      <td>good</td>\n",
       "      <td>1</td>\n",
       "      <td>0.733333</td>\n",
       "    </tr>\n",
       "    <tr>\n",
       "      <th>1</th>\n",
       "      <td>01_0001_1_17_0916_0332_1.png</td>\n",
       "      <td>4.000000</td>\n",
       "      <td>good</td>\n",
       "      <td>1</td>\n",
       "      <td>0.800000</td>\n",
       "    </tr>\n",
       "    <tr>\n",
       "      <th>2</th>\n",
       "      <td>02_0002_0_18_1016_1585_1.png</td>\n",
       "      <td>2.000000</td>\n",
       "      <td>bad</td>\n",
       "      <td>0</td>\n",
       "      <td>0.400000</td>\n",
       "    </tr>\n",
       "    <tr>\n",
       "      <th>3</th>\n",
       "      <td>02_0002_0_20_1016_0777_1.png</td>\n",
       "      <td>2.333333</td>\n",
       "      <td>bad</td>\n",
       "      <td>0</td>\n",
       "      <td>0.466667</td>\n",
       "    </tr>\n",
       "    <tr>\n",
       "      <th>4</th>\n",
       "      <td>02_0002_0_10_1116_1994_1.png</td>\n",
       "      <td>1.000000</td>\n",
       "      <td>bad</td>\n",
       "      <td>0</td>\n",
       "      <td>0.200000</td>\n",
       "    </tr>\n",
       "  </tbody>\n",
       "</table>\n",
       "</div>"
      ],
      "text/plain": [
       "                image_file_name  aesthetic_score aesthetic_quality  \\\n",
       "0  01_0001_0_15_0916_0422_1.png         3.666667              good   \n",
       "1  01_0001_1_17_0916_0332_1.png         4.000000              good   \n",
       "2  02_0002_0_18_1016_1585_1.png         2.000000               bad   \n",
       "3  02_0002_0_20_1016_0777_1.png         2.333333               bad   \n",
       "4  02_0002_0_10_1116_1994_1.png         1.000000               bad   \n",
       "\n",
       "   probability_good  actual_prob_good  \n",
       "0                 1          0.733333  \n",
       "1                 1          0.800000  \n",
       "2                 0          0.400000  \n",
       "3                 0          0.466667  \n",
       "4                 0          0.200000  "
      ]
     },
     "execution_count": 7,
     "metadata": {},
     "output_type": "execute_result"
    }
   ],
   "source": [
    "val_df = pd.read_csv(os.path.join('..', 'dataset', 'prepared-datasets', '2_class', 'aesthetics_val.csv'))\n",
    "val_df = fix_bin_classification_csv(val_df)\n",
    "val_df.head()"
   ]
  },
  {
   "cell_type": "code",
   "execution_count": 8,
   "id": "19a60d94",
   "metadata": {},
   "outputs": [
    {
     "data": {
      "text/html": [
       "<div>\n",
       "<style scoped>\n",
       "    .dataframe tbody tr th:only-of-type {\n",
       "        vertical-align: middle;\n",
       "    }\n",
       "\n",
       "    .dataframe tbody tr th {\n",
       "        vertical-align: top;\n",
       "    }\n",
       "\n",
       "    .dataframe thead th {\n",
       "        text-align: right;\n",
       "    }\n",
       "</style>\n",
       "<table border=\"1\" class=\"dataframe\">\n",
       "  <thead>\n",
       "    <tr style=\"text-align: right;\">\n",
       "      <th></th>\n",
       "      <th>image_file_name</th>\n",
       "      <th>aesthetic_score</th>\n",
       "      <th>aesthetic_quality</th>\n",
       "      <th>probability_good</th>\n",
       "      <th>actual_prob_good</th>\n",
       "    </tr>\n",
       "  </thead>\n",
       "  <tbody>\n",
       "    <tr>\n",
       "      <th>0</th>\n",
       "      <td>02_0002_0_20_1016_1268_1.png</td>\n",
       "      <td>1.000000</td>\n",
       "      <td>bad</td>\n",
       "      <td>0</td>\n",
       "      <td>0.200000</td>\n",
       "    </tr>\n",
       "    <tr>\n",
       "      <th>1</th>\n",
       "      <td>01_0001_0_18_0916_0260_1.png</td>\n",
       "      <td>3.333333</td>\n",
       "      <td>good</td>\n",
       "      <td>1</td>\n",
       "      <td>0.666667</td>\n",
       "    </tr>\n",
       "    <tr>\n",
       "      <th>2</th>\n",
       "      <td>02_0002_0_21_1016_1119_1.png</td>\n",
       "      <td>3.666667</td>\n",
       "      <td>good</td>\n",
       "      <td>1</td>\n",
       "      <td>0.733333</td>\n",
       "    </tr>\n",
       "    <tr>\n",
       "      <th>3</th>\n",
       "      <td>01_0001_0_19_0916_1895_1.png</td>\n",
       "      <td>3.000000</td>\n",
       "      <td>good</td>\n",
       "      <td>1</td>\n",
       "      <td>0.600000</td>\n",
       "    </tr>\n",
       "    <tr>\n",
       "      <th>4</th>\n",
       "      <td>02_0002_0_22_1016_1496_1.png</td>\n",
       "      <td>1.333333</td>\n",
       "      <td>bad</td>\n",
       "      <td>0</td>\n",
       "      <td>0.266667</td>\n",
       "    </tr>\n",
       "  </tbody>\n",
       "</table>\n",
       "</div>"
      ],
      "text/plain": [
       "                image_file_name  aesthetic_score aesthetic_quality  \\\n",
       "0  02_0002_0_20_1016_1268_1.png         1.000000               bad   \n",
       "1  01_0001_0_18_0916_0260_1.png         3.333333              good   \n",
       "2  02_0002_0_21_1016_1119_1.png         3.666667              good   \n",
       "3  01_0001_0_19_0916_1895_1.png         3.000000              good   \n",
       "4  02_0002_0_22_1016_1496_1.png         1.333333               bad   \n",
       "\n",
       "   probability_good  actual_prob_good  \n",
       "0                 0          0.200000  \n",
       "1                 1          0.666667  \n",
       "2                 1          0.733333  \n",
       "3                 1          0.600000  \n",
       "4                 0          0.266667  "
      ]
     },
     "execution_count": 8,
     "metadata": {},
     "output_type": "execute_result"
    }
   ],
   "source": [
    "test_df = pd.read_csv(os.path.join('..', 'dataset', 'prepared-datasets', '2_class', 'aesthetics_test.csv'))\n",
    "test_df = fix_bin_classification_csv(test_df)\n",
    "test_df.head()"
   ]
  },
  {
   "cell_type": "code",
   "execution_count": 9,
   "id": "ae5619d6",
   "metadata": {},
   "outputs": [],
   "source": [
    "train_df.to_csv(os.path.join('..', 'dataset', 'prepared-datasets', '2_class', 'aesthetics_train.csv'), index=False)\n",
    "val_df.to_csv(os.path.join('..', 'dataset', 'prepared-datasets', '2_class', 'aesthetics_val.csv'), index=False)\n",
    "test_df.to_csv(os.path.join('..', 'dataset', 'prepared-datasets', '2_class', 'aesthetics_test.csv'), index=False)"
   ]
  }
 ],
 "metadata": {
  "kernelspec": {
   "display_name": "Python 3",
   "language": "python",
   "name": "python3"
  },
  "language_info": {
   "codemirror_mode": {
    "name": "ipython",
    "version": 3
   },
   "file_extension": ".py",
   "mimetype": "text/x-python",
   "name": "python",
   "nbconvert_exporter": "python",
   "pygments_lexer": "ipython3",
   "version": "3.8.8"
  }
 },
 "nbformat": 4,
 "nbformat_minor": 5
}
