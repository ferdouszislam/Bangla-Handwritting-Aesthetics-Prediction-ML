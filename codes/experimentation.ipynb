{
  "nbformat": 4,
  "nbformat_minor": 0,
  "metadata": {
    "accelerator": "GPU",
    "colab": {
      "name": "experimentation.ipynb",
      "provenance": [],
      "collapsed_sections": [],
      "include_colab_link": true
    },
    "kernelspec": {
      "display_name": "Python 3",
      "name": "python3"
    },
    "language_info": {
      "name": "python"
    }
  },
  "cells": [
    {
      "cell_type": "markdown",
      "metadata": {
        "id": "view-in-github",
        "colab_type": "text"
      },
      "source": [
        "<a href=\"https://colab.research.google.com/github/ferdouszislam/Bangla-Handwritting-Aesthetics-Prediction-ML/blob/main/codes/experimentation.ipynb\" target=\"_parent\"><img src=\"https://colab.research.google.com/assets/colab-badge.svg\" alt=\"Open In Colab\"/></a>"
      ]
    },
    {
      "cell_type": "code",
      "metadata": {
        "id": "pdDVpaPj0XQQ"
      },
      "source": [
        "import torch\n",
        "import numpy as np\n",
        "import math\n",
        "import torch.nn as nn\n",
        "import matplotlib.pyplot as plt\n",
        "import pandas as pd\n",
        "import torchvision\n",
        "import torchvision.transforms as transforms\n",
        "from torchvision.utils import make_grid\n",
        "from torch.utils.data import Dataset, DataLoader\n",
        "from skimage import io"
      ],
      "execution_count": 1,
      "outputs": []
    },
    {
      "cell_type": "code",
      "metadata": {
        "colab": {
          "base_uri": "https://localhost:8080/"
        },
        "id": "jT8i-2KxIanO",
        "outputId": "473119d7-a2fe-4f1c-b0a6-dd89782edb02"
      },
      "source": [
        "# mount gdrive with this code\n",
        "from google.colab import drive\n",
        "drive.mount('/content/drive')"
      ],
      "execution_count": 2,
      "outputs": [
        {
          "output_type": "stream",
          "text": [
            "Drive already mounted at /content/drive; to attempt to forcibly remount, call drive.mount(\"/content/drive\", force_remount=True).\n"
          ],
          "name": "stdout"
        }
      ]
    },
    {
      "cell_type": "code",
      "metadata": {
        "colab": {
          "base_uri": "https://localhost:8080/"
        },
        "id": "bpxRqJ4t0vzs",
        "outputId": "d1d72c01-5e36-458b-9845-0c0267da8c0c"
      },
      "source": [
        "# device configuration\n",
        "device = torch.device('cuda' if torch.cuda.is_available() else 'cpu')\n",
        "device"
      ],
      "execution_count": 3,
      "outputs": [
        {
          "output_type": "execute_result",
          "data": {
            "text/plain": [
              "device(type='cuda')"
            ]
          },
          "metadata": {
            "tags": []
          },
          "execution_count": 3
        }
      ]
    },
    {
      "cell_type": "code",
      "metadata": {
        "id": "4jDYZDoy0780"
      },
      "source": [
        "# extract the zip file containing our dataset\n",
        "import zipfile\n",
        "import os\n",
        "\n",
        "zip_ref = zipfile.ZipFile('/content/drive/MyDrive/Colab Notebooks/BanglaLekha-Isolated_aesthetics_dataset/prepared-datasets.zip', 'r')\n",
        "zip_ref.extractall('/tmp')\n",
        "zip_ref.close()"
      ],
      "execution_count": 4,
      "outputs": []
    },
    {
      "cell_type": "code",
      "metadata": {
        "id": "6rP9-nAEG6VV"
      },
      "source": [
        "# custom dataset class\n",
        "class BanglaAestheticsDataset(Dataset):\n",
        "  def __init__(self, labels_csv_file, img_dir, transform=None):\n",
        "    self.labels_df = pd.read_csv(labels_csv_file)\n",
        "    self.img_dir = img_dir\n",
        "    self.transform = transform\n",
        "\n",
        "  def __len__(self):\n",
        "    return len(self.labels_df)\n",
        "\n",
        "  def __getitem__(self, index):\n",
        "    img_path = os.path.join(self.img_dir, self.labels_df.iloc[index, 0])\n",
        "    image = io.imread(img_path)\n",
        "    if self.transform:\n",
        "      image = self.transform(image)\n",
        "    y_label = torch.tensor(int(self.labels_df.iloc[index, 3]))\n",
        "    \n",
        "    return (image, y_label)"
      ],
      "execution_count": 5,
      "outputs": []
    },
    {
      "cell_type": "code",
      "metadata": {
        "id": "5avGEJ2TJLa5"
      },
      "source": [
        "# load data\n",
        "\n",
        "# resize to same shape and convert to tensor\n",
        "custom_transform = transforms.Compose([transforms.ToPILImage(), transforms.Resize((50, 50)), transforms.ToTensor()])\n",
        "\n",
        "train_dataset = BanglaAestheticsDataset(labels_csv_file='/tmp/prepared-datasets/aesthetics_train.csv', \n",
        "                                        img_dir='/tmp/prepared-datasets/train_images', transform=custom_transform)\n",
        "\n",
        "val_dataset = BanglaAestheticsDataset(labels_csv_file='/tmp/prepared-datasets/aesthetics_val.csv', \n",
        "                                        img_dir='/tmp/prepared-datasets/validation_images', transform=custom_transform)\n",
        "\n",
        "test_dataset = BanglaAestheticsDataset(labels_csv_file='/tmp/prepared-datasets/aesthetics_test.csv', \n",
        "                                        img_dir='/tmp/prepared-datasets/test_images', transform=custom_transform)"
      ],
      "execution_count": 6,
      "outputs": []
    },
    {
      "cell_type": "code",
      "metadata": {
        "id": "Pvlyl8uuLAsL"
      },
      "source": [
        "# data loaders\n",
        "\n",
        "batch_size = 10 # no of samples in a single batch\n",
        "\n",
        "train_loader = DataLoader(dataset=train_dataset, batch_size=batch_size, shuffle=True)\n",
        "val_loader = DataLoader(dataset=val_dataset, batch_size=batch_size, shuffle=True)\n",
        "test_loader = DataLoader(dataset=test_dataset, batch_size=batch_size, shuffle=False)"
      ],
      "execution_count": 7,
      "outputs": []
    },
    {
      "cell_type": "code",
      "metadata": {
        "colab": {
          "base_uri": "https://localhost:8080/",
          "height": 127
        },
        "id": "TSOSP7TUT5GG",
        "outputId": "6e648052-b57c-40f9-990b-9e10457bf729"
      },
      "source": [
        "# visualize data\n",
        "def show_batch(dl):\n",
        "    \"\"\"Plot images grid of single batch\"\"\"\n",
        "    for images, labels in dl:\n",
        "        fig,ax = plt.subplots(figsize = (16,12))\n",
        "        ax.set_xticks([])\n",
        "        ax.set_yticks([])\n",
        "        ax.imshow(make_grid(images,nrow=16).permute(1,2,0))\n",
        "        break\n",
        "        \n",
        "show_batch(val_loader)"
      ],
      "execution_count": 8,
      "outputs": [
        {
          "output_type": "display_data",
          "data": {
            "image/png": "[encoded data removed]",
            "text/plain": [
              "<Figure size 1152x864 with 1 Axes>"
            ]
          },
          "metadata": {
            "tags": []
          }
        }
      ]
    },
    {
      "cell_type": "markdown",
      "metadata": {
        "id": "2MzeqzsVTU_T"
      },
      "source": [
        "# ANN experimentation starts from here"
      ]
    },
    {
      "cell_type": "code",
      "metadata": {
        "id": "PuGsF1kwTSqC"
      },
      "source": [
        "# hyperparameters\n",
        "INPUT_SIZE = 50*50\n",
        "FC1_SIZE = 512\n",
        "FC2_SIZE = 128\n",
        "FC3_SIZE = 32\n",
        "CONV1_FILTERS = 16\n",
        "CONV2_FILTERS = 32\n",
        "NUM_EPOCHS = 1\n",
        "LEARNING_RATE = 0.0015"
      ],
      "execution_count": 9,
      "outputs": []
    },
    {
      "cell_type": "code",
      "metadata": {
        "id": "EULlx9ryT0gu"
      },
      "source": [
        "# custom ANN class with 3 hidden layers, relu activation and dropout of 0.5 on each hidden layer\n",
        "class ANN(nn.Module):\n",
        "  def __init__(self, input_size=50*50, fc1_size=512, fc2_size=128, fc3_size=32):\n",
        "    super(ANN, self).__init__()\n",
        "    self.input_size = input_size\n",
        "    self.fc1 = nn.Linear(input_size, fc1_size)\n",
        "    self.dropout_fc1 = nn.Dropout(0.5)\n",
        "    self.relu = nn.ReLU()\n",
        "    self.fc2 = nn.Linear(fc1_size, fc2_size)\n",
        "    self.dropout_fc2 = nn.Dropout(0.5)\n",
        "    self.fc3 = nn.Linear(fc2_size, fc3_size)\n",
        "    self.dropout_fc3 = nn.Dropout(0.5)\n",
        "    self.output_layer = nn.Linear(fc3_size, 1)\n",
        "\n",
        "  def forward(self, input):\n",
        "    # flatten input\n",
        "    input = input.reshape(-1, self.input_size) \n",
        "    # input layer to hidden layer 1\n",
        "    output = self.dropout_fc1(self.fc1(input))\n",
        "    output = self.relu(output)\n",
        "    # hidden layer 1 to hidden layer 2\n",
        "    output = self.dropout_fc2(self.fc2(output))\n",
        "    output = self.relu(output)\n",
        "    # hidden layer 2 to hidden layer 3\n",
        "    output = self.dropout_fc3(self.fc3(output))\n",
        "    output = self.relu(output)\n",
        "    # hidden layer 3 to output\n",
        "    output = self.output_layer(output)\n",
        "    pred = torch.sigmoid(output) # probability prediction\n",
        "    return pred"
      ],
      "execution_count": 10,
      "outputs": []
    },
    {
      "cell_type": "code",
      "metadata": {
        "id": "YQvto-pPjckf"
      },
      "source": [
        "# custom cnn class \n",
        "class CNN(nn.Module):\n",
        "  def __init__(self, conv1_filters=16, conv2_filters=32, fc1_size=256, fc2_size=64):\n",
        "    super(CNN, self).__init__()\n",
        "    \n",
        "    self.conv1_filters = conv1_filters\n",
        "    self.conv2_filters = conv2_filters\n",
        "\n",
        "    self.conv_layer1 = nn.Sequential(\n",
        "        nn.Conv2d(1, conv1_filters, kernel_size=3, stride=1, padding=1),\n",
        "        nn.BatchNorm2d(conv1_filters),\n",
        "        nn.Dropout(0.25),\n",
        "        nn.ReLU(),\n",
        "        nn.MaxPool2d(kernel_size=2, stride=2)\n",
        "    )\n",
        "\n",
        "    self.conv_layer2 =  nn.Sequential(\n",
        "        nn.Conv2d(conv1_filters, conv2_filters, kernel_size=3, stride=1, padding=1),\n",
        "        nn.BatchNorm2d(conv2_filters),\n",
        "        nn.Dropout(0.25),\n",
        "        nn.ReLU(),\n",
        "        nn.MaxPool2d(kernel_size=2, stride=2)\n",
        "    )\n",
        "\n",
        "    # conv layer explanation with: conv1_filters=16, conv2_filters=32\n",
        "    # 1x50x50 --conv1--> 16x50x50 --maxpool--> 16x25x25\n",
        "    # 16x25x25 --conv2--> 32x25x25 --maxpool--> 32x12x12\n",
        "\n",
        "    self.fc1 = nn.Linear(conv2_filters*12*12, fc1_size) \n",
        "    self.fc2 = nn.Linear(fc1_size, fc2_size)\n",
        "    self.relu = nn.ReLU()\n",
        "    self.fc_dropout = nn.Dropout(0.5)\n",
        "    self.output_layer = nn.Linear(fc2_size, 1)\n",
        "      \n",
        "  def forward(self, input):\n",
        "    #print('inside forward', input.shape)\n",
        "\n",
        "    # input to conv_layer1\n",
        "    output = self.conv_layer1(input)\n",
        "    #print('after conv1', output.shape)\n",
        "\n",
        "    # conv_layer1 to conv_layer2\n",
        "    output = self.conv_layer2(output)\n",
        "    #print('after conv2', output.shape)\n",
        "\n",
        "    # conv_layer2 to fc1\n",
        "    output = output.reshape(-1, self.conv2_filters*12*12) # flatten\n",
        "    output = self.fc1(output)\n",
        "    output = self.relu(self.fc_dropout(output))\n",
        "\n",
        "    # fc1 to fc2\n",
        "    output = self.fc2(output)\n",
        "    output = self.relu(self.fc_dropout(output))\n",
        "\n",
        "    # fc2 to prediction\n",
        "    output = self.output_layer(output)\n",
        "    pred = torch.sigmoid(output)\n",
        "\n",
        "    return pred\n",
        "\n",
        "  def _get_result_dims(input_dims, conv_dims, p=0, s=1):\n",
        "    # get resulting matrix(2d) dimensions after convolution\n",
        "    \n",
        "    resulting_dims = []\n",
        "    resulting_dims.append(int((input_dims[0] - conv_dims[0] + 2*p)/s)+1)\n",
        "    resulting_dims.append(int((input_dims[1] - conv_dims[1] + 2*p)/s)+1)\n",
        "    \n",
        "    return resulting_dims"
      ],
      "execution_count": 19,
      "outputs": []
    },
    {
      "cell_type": "code",
      "metadata": {
        "id": "YwhT4vRCtXNx"
      },
      "source": [
        "# class to calculate accuracy of model, using batches of data\n",
        "class Accuracy_Calc():\n",
        "  def __init__(self):\n",
        "    self.n_correct_samples = 0\n",
        "    self.n_total_samples = 0\n",
        "\n",
        "  def add_batch(self, pred_labels, gt_labels):\n",
        "    pred_labels = torch.round(pred_labels)\n",
        "    gt_labels = torch.round(gt_labels)\n",
        "\n",
        "    self.n_total_samples+=gt_labels.size(0)\n",
        "    self.n_correct_samples+=pred_labels.eq(gt_labels).sum().item()\n",
        "\n",
        "  def get_accuracy(self):\n",
        "    return 100*self.n_correct_samples/self.n_total_samples"
      ],
      "execution_count": 12,
      "outputs": []
    },
    {
      "cell_type": "code",
      "metadata": {
        "id": "5xf2Gq4sjAZw"
      },
      "source": [
        "PATH_TO_ANN_MODEL = 'ann_model.pth'\n",
        "PATH_TO_CNN_MODEL = 'cnn_model.pth'\n",
        "\n",
        "# training loop\n",
        "def train(model, optimizer, criterion, train_loader, num_epochs, SAVE_PATH):\n",
        "  min_valid_loss = np.inf\n",
        "  total_train_step = len(train_loader)\n",
        "\n",
        "  train_accuracies = []\n",
        "  val_accuracies = []\n",
        "  \n",
        "  # train loop\n",
        "  for epoch in range(num_epochs):\n",
        "    train_loss = 0.0\n",
        "    train_acc_calc = Accuracy_Calc()\n",
        "    \n",
        "    model.train() # set the model in train mode\n",
        "    for step, (images, labels) in enumerate(train_loader):\n",
        "      images = images.to(device)\n",
        "      labels = labels.to(device)\n",
        "\n",
        "      outputs = model(images)\n",
        "      labels = labels.unsqueeze(1)\n",
        "      labels = labels.float()\n",
        "\n",
        "      loss = criterion(outputs, labels)\n",
        "      optimizer.zero_grad()\n",
        "      loss.backward()\n",
        "      optimizer.step()\n",
        "\n",
        "      # accumulate training loss\n",
        "      train_loss+=loss.item()\n",
        "      with torch.no_grad():\n",
        "        # accumulate train accuracy\n",
        "        train_acc_calc.add_batch(outputs, labels)\n",
        "\n",
        "    valid_loss = 0.0\n",
        "    val_acc_calc = Accuracy_Calc()\n",
        "\n",
        "    model.eval() # set the model to evaluation mode\n",
        "    with torch.no_grad():\n",
        "      for step, (images, labels) in enumerate(val_loader):\n",
        "        # if flatten_input:\n",
        "        #   images = images.reshape(-1, 50*50) # flatten image\n",
        "        images = images.to(device)\n",
        "        labels = labels.to(device)\n",
        "\n",
        "        outputs = model(images)\n",
        "        labels = labels.unsqueeze(1)\n",
        "        labels = labels.float()\n",
        "\n",
        "        loss = criterion(outputs, labels)\n",
        "\n",
        "        # accumulate validation loss\n",
        "        valid_loss+=loss.item()\n",
        "        # accumulate validation accuracy\n",
        "        val_acc_calc.add_batch(outputs, labels)\n",
        "\n",
        "    train_loss /= len(train_loader)\n",
        "    valid_loss /= len(val_loader)\n",
        "    train_accuracies.append(train_acc_calc.get_accuracy())\n",
        "    val_accuracies.append(val_acc_calc.get_accuracy())\n",
        "    \n",
        "    print(f'epoch {epoch+1} --- training- loss: {train_loss:.3f}, acc: {train_acc_calc.get_accuracy():.3f} \\\n",
        "    --- validation- loss: {valid_loss:.3f}, acc: {val_acc_calc.get_accuracy():.3f}')\n",
        "\n",
        "    if min_valid_loss > valid_loss:\n",
        "        print(f'validation loss decreased({min_valid_loss:.4f}--->{valid_loss:.4f}) \\t Saving The Model')\n",
        "        min_valid_loss = valid_loss\n",
        "        # Saving State Dict\n",
        "        #torch.save(model, 'saved_model.pth')\n",
        "        model.to(device)\n",
        "        torch.save(model.state_dict(), SAVE_PATH)\n",
        "\n",
        "  return train_accuracies, val_accuracies\n",
        "\n",
        "# evaluation \n",
        "def eval(model, test_loader):\n",
        "  model.eval()\n",
        "  with torch.no_grad():\n",
        "    n_correct_samples = 0\n",
        "    n_total_samples = 0\n",
        "    for imgs, labels in test_loader:\n",
        "      imgs = imgs.to(device)\n",
        "      labels = labels.to(device).reshape(-1, 1)\n",
        "\n",
        "      outputs = model(imgs)\n",
        "\n",
        "      #pred = outputs.round() # if outputs>=0.5 class = 1, else class = 0\n",
        "      pred = torch.round(outputs)\n",
        "\n",
        "      #print(pred.shape, labels.shape)\n",
        "      \n",
        "      n_total_samples+=labels.size(0)\n",
        "      n_correct_samples+=pred.eq(labels).sum().item()\n",
        "\n",
        "    print(f'Accuracy = {100*n_correct_samples/n_total_samples : 0.3f}')"
      ],
      "execution_count": 13,
      "outputs": []
    },
    {
      "cell_type": "code",
      "metadata": {
        "colab": {
          "base_uri": "https://localhost:8080/"
        },
        "id": "UGLoo4qDjYLH",
        "outputId": "9390aa40-6f89-4cb0-b916-4984c3b2987a"
      },
      "source": [
        "# init model with ANN\n",
        "model = ANN(input_size=INPUT_SIZE, fc1_size=FC1_SIZE, fc2_size=FC2_SIZE, fc3_size=FC3_SIZE)\n",
        "model = model.to(device)\n",
        "\n",
        "# init loss function, optimizer\n",
        "criterion = nn.BCELoss()\n",
        "optimizer = torch.optim.Adam(model.parameters(), lr=LEARNING_RATE)\n",
        "\n",
        "train(model, optimizer, criterion, train_loader, NUM_EPOCHS, SAVE_PATH=PATH_TO_ANN_MODEL)"
      ],
      "execution_count": 14,
      "outputs": [
        {
          "output_type": "stream",
          "text": [
            "epoch 1 --- training- loss: 0.684, acc: 56.729     --- validation- loss: 0.670, acc: 58.784\n",
            "validation loss decreased(inf--->0.6704) \t Saving The Model\n"
          ],
          "name": "stdout"
        },
        {
          "output_type": "execute_result",
          "data": {
            "text/plain": [
              "([56.72892269458146], [58.7837582625118])"
            ]
          },
          "metadata": {
            "tags": []
          },
          "execution_count": 14
        }
      ]
    },
    {
      "cell_type": "code",
      "metadata": {
        "colab": {
          "base_uri": "https://localhost:8080/"
        },
        "id": "0czj1AVmrSWy",
        "outputId": "0adf1842-5285-4125-bca3-8866285c974c"
      },
      "source": [
        "model = ANN(input_size=INPUT_SIZE, fc1_size=FC1_SIZE, fc2_size=FC2_SIZE, fc3_size=FC3_SIZE)\n",
        "model.load_state_dict(torch.load(PATH_TO_ANN_MODEL))\n",
        "model = model.to(device)\n",
        "eval(model=model, test_loader=test_loader)"
      ],
      "execution_count": 15,
      "outputs": [
        {
          "output_type": "stream",
          "text": [
            "Accuracy =  57.964\n"
          ],
          "name": "stdout"
        }
      ]
    },
    {
      "cell_type": "code",
      "metadata": {
        "colab": {
          "base_uri": "https://localhost:8080/"
        },
        "id": "hiLWrh7VCECm",
        "outputId": "b8cb8335-be2e-46e1-8b0d-1be664644e67"
      },
      "source": [
        "# init model with CNN\n",
        "model = CNN()\n",
        "model = model.to(device)\n",
        "\n",
        "# init loss function, optimizer\n",
        "criterion = nn.BCELoss()\n",
        "optimizer = torch.optim.Adam(model.parameters(), lr=LEARNING_RATE)\n",
        "\n",
        "train(model, optimizer, criterion, train_loader, NUM_EPOCHS, SAVE_PATH=PATH_TO_CNN_MODEL)"
      ],
      "execution_count": 21,
      "outputs": [
        {
          "output_type": "stream",
          "text": [
            "epoch 1 --- training- loss: 0.650, acc: 62.307     --- validation- loss: 0.615, acc: 64.653\n",
            "validation loss decreased(inf--->0.6148) \t Saving The Model\n"
          ],
          "name": "stdout"
        },
        {
          "output_type": "execute_result",
          "data": {
            "text/plain": [
              "([62.307489550777575], [64.65344664778092])"
            ]
          },
          "metadata": {
            "tags": []
          },
          "execution_count": 21
        }
      ]
    },
    {
      "cell_type": "code",
      "metadata": {
        "id": "6rSNCluqCaTj",
        "colab": {
          "base_uri": "https://localhost:8080/"
        },
        "outputId": "148497dc-b8bc-4de1-8186-8b4d238ab997"
      },
      "source": [
        "model = CNN()\n",
        "model.load_state_dict(torch.load(PATH_TO_CNN_MODEL))\n",
        "model = model.to(device)\n",
        "eval(model=model, test_loader=test_loader)"
      ],
      "execution_count": 22,
      "outputs": [
        {
          "output_type": "stream",
          "text": [
            "Accuracy =  62.583\n"
          ],
          "name": "stdout"
        }
      ]
    }
  ]
}