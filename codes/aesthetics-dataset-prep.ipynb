{
 "cells": [
  {
   "cell_type": "code",
   "execution_count": 1,
   "id": "b3e6bd7e",
   "metadata": {},
   "outputs": [],
   "source": [
    "# required for jupyter notebook\n",
    "%matplotlib inline \n",
    "\n",
    "import numpy as np\n",
    "import pandas as pd\n",
    "\n",
    "from sklearn.model_selection import train_test_split\n",
    "\n",
    "import os\n",
    "import math"
   ]
  },
  {
   "cell_type": "markdown",
   "id": "377d8c9f",
   "metadata": {},
   "source": [
    "### Upon analysis we found that folder 74 contained image files with '_75' at the end of their file names. The code below fixes such file names."
   ]
  },
  {
   "cell_type": "code",
   "execution_count": 2,
   "id": "4cc80ce7",
   "metadata": {},
   "outputs": [],
   "source": [
    "images_dir = os.path.join('..', 'dataset', 'BanglaLekha-Isolated', 'Images')\n",
    "\n",
    "for i in range(1, 84+1):\n",
    "    \n",
    "    curr_dir = os.path.join(images_dir, str(i))\n",
    "    \n",
    "    for file_name in os.listdir(curr_dir): \n",
    "        if os.path.isfile(os.path.join(curr_dir, file_name)) == False:\n",
    "            continue\n",
    "        \n",
    "        file_name_parts = file_name.split('_')\n",
    "        \n",
    "        file_folder = file_name_parts[6]\n",
    "        \n",
    "        if file_folder!=str(i)+'.png':\n",
    "            new_file_name=''\n",
    "            for j in range(6):\n",
    "                new_file_name+=file_name_parts[j]+'_'\n",
    "            new_file_name+=str(i)+'.png'\n",
    "            \n",
    "            #print(file_name, ' -> ', new_file_name)\n",
    "            os.rename(os.path.join(curr_dir, file_name), os.path.join(curr_dir, new_file_name))"
   ]
  },
  {
   "cell_type": "markdown",
   "id": "3ff72aae",
   "metadata": {},
   "source": [
    "### Mean aesthetic score = 2.455"
   ]
  },
  {
   "cell_type": "code",
   "execution_count": 3,
   "id": "2afb1f68",
   "metadata": {},
   "outputs": [],
   "source": [
    "MEAN_AES_SCORE = 2.455"
   ]
  },
  {
   "cell_type": "code",
   "execution_count": 4,
   "id": "7dabd5c7",
   "metadata": {},
   "outputs": [],
   "source": [
    "raw_aestheticScores_df = pd.read_csv(os.path.join('..', 'dataset', 'BanglaLekha-Isolated', 'aesthetic-scores.csv'))"
   ]
  },
  {
   "cell_type": "code",
   "execution_count": 5,
   "id": "db592075",
   "metadata": {},
   "outputs": [
    {
     "data": {
      "text/html": [
       "<div>\n",
       "<style scoped>\n",
       "    .dataframe tbody tr th:only-of-type {\n",
       "        vertical-align: middle;\n",
       "    }\n",
       "\n",
       "    .dataframe tbody tr th {\n",
       "        vertical-align: top;\n",
       "    }\n",
       "\n",
       "    .dataframe thead th {\n",
       "        text-align: right;\n",
       "    }\n",
       "</style>\n",
       "<table border=\"1\" class=\"dataframe\">\n",
       "  <thead>\n",
       "    <tr style=\"text-align: right;\">\n",
       "      <th></th>\n",
       "      <th>Form No</th>\n",
       "      <th>Out Of 5 (1st Person)</th>\n",
       "      <th>Out of 5 (2nd Person)</th>\n",
       "      <th>Out of 5 (3rd Person)</th>\n",
       "      <th>Average</th>\n",
       "    </tr>\n",
       "  </thead>\n",
       "  <tbody>\n",
       "    <tr>\n",
       "      <th>0</th>\n",
       "      <td>1</td>\n",
       "      <td>2</td>\n",
       "      <td>4</td>\n",
       "      <td>5</td>\n",
       "      <td>3.666667</td>\n",
       "    </tr>\n",
       "    <tr>\n",
       "      <th>1</th>\n",
       "      <td>2</td>\n",
       "      <td>1</td>\n",
       "      <td>3</td>\n",
       "      <td>4</td>\n",
       "      <td>2.666667</td>\n",
       "    </tr>\n",
       "    <tr>\n",
       "      <th>2</th>\n",
       "      <td>3</td>\n",
       "      <td>3</td>\n",
       "      <td>5</td>\n",
       "      <td>4</td>\n",
       "      <td>4.000000</td>\n",
       "    </tr>\n",
       "    <tr>\n",
       "      <th>3</th>\n",
       "      <td>4</td>\n",
       "      <td>2</td>\n",
       "      <td>3</td>\n",
       "      <td>4</td>\n",
       "      <td>3.000000</td>\n",
       "    </tr>\n",
       "    <tr>\n",
       "      <th>4</th>\n",
       "      <td>5</td>\n",
       "      <td>1</td>\n",
       "      <td>3</td>\n",
       "      <td>3</td>\n",
       "      <td>2.333333</td>\n",
       "    </tr>\n",
       "  </tbody>\n",
       "</table>\n",
       "</div>"
      ],
      "text/plain": [
       "   Form No  Out Of 5 (1st Person)  Out of 5 (2nd Person)  \\\n",
       "0        1                      2                      4   \n",
       "1        2                      1                      3   \n",
       "2        3                      3                      5   \n",
       "3        4                      2                      3   \n",
       "4        5                      1                      3   \n",
       "\n",
       "   Out of 5 (3rd Person)   Average  \n",
       "0                      5  3.666667  \n",
       "1                      4  2.666667  \n",
       "2                      4  4.000000  \n",
       "3                      4  3.000000  \n",
       "4                      3  2.333333  "
      ]
     },
     "execution_count": 5,
     "metadata": {},
     "output_type": "execute_result"
    }
   ],
   "source": [
    "raw_aestheticScores_df.head()"
   ]
  },
  {
   "cell_type": "code",
   "execution_count": 6,
   "id": "21b26ede",
   "metadata": {},
   "outputs": [],
   "source": [
    "'''\n",
    "returns a map of key->value : form_id->aesthetic_score\n",
    "'''\n",
    "def get_form_aesScores(aestheticScores_df):\n",
    "    \n",
    "    form_aesScores = {} \n",
    "    \n",
    "    form_ids = []\n",
    "    aes_scores = []\n",
    "    for form_id in aestheticScores_df['Form No']:\n",
    "        form_ids.append(form_id)\n",
    "    for aes_score in aestheticScores_df['Average']:\n",
    "        aes_scores.append(aes_score)\n",
    "        \n",
    "    for i in range(len(form_ids)):\n",
    "        form_aesScores[form_ids[i]] = aes_scores[i]\n",
    "        \n",
    "    return form_aesScores"
   ]
  },
  {
   "cell_type": "code",
   "execution_count": 7,
   "id": "20b26c6e",
   "metadata": {},
   "outputs": [],
   "source": [
    "'''\n",
    "create 4 PARALLEL lists- image_file_name[], aesthetic_score[], aesthetic_quality[], prob_good[]\n",
    "image_file_name[] = name of the sample image file\n",
    "aesthetic_score[] = aesthetic score assigned in decimal point number\n",
    "aesthetic_quality[] = label- 'good' or 'bad'\n",
    "prob_good[] = 1 if good, 0 if bad \n",
    "\n",
    "returns a dataframe with each list as a column\n",
    "'''\n",
    "def prepare_hwAesthetics_df(mp_formWise_aesScores, begin=1, end=84, mean_aesScore = 2.455):\n",
    "\n",
    "    image_file_name, aesthetic_score, aesthetic_quality, prob_good = [], [], [], []\n",
    "    \n",
    "    images_dir = os.path.join('..', 'dataset', 'BanglaLekha-Isolated', 'Images')\n",
    "    \n",
    "    for i in range(begin, end+1):\n",
    "        \n",
    "        curr_dir = os.path.join(images_dir, str(i))\n",
    "        \n",
    "        for file_name in os.listdir(curr_dir): \n",
    "            if os.path.isfile(os.path.join(curr_dir, file_name)) == False:\n",
    "                continue\n",
    "                \n",
    "            form_id = int(file_name.split('_')[5])\n",
    "            \n",
    "            if form_id not in mp_formWise_aesScores:\n",
    "                continue\n",
    "            \n",
    "            aes_score = mp_formWise_aesScores[form_id]\n",
    "            \n",
    "            image_file_name.append(file_name)\n",
    "            aesthetic_score.append(aes_score)\n",
    "            if aes_score >= mean_aesScore:\n",
    "                aesthetic_quality.append('good')\n",
    "                prob_good.append(1)\n",
    "            else:\n",
    "                aesthetic_quality.append('bad')\n",
    "                prob_good.append(0)\n",
    "                \n",
    "    return pd.DataFrame({'image_file_name': image_file_name,\n",
    "                       'aesthetic_score': aesthetic_score,\n",
    "                       'aesthetic_quality': aesthetic_quality,\n",
    "                       'probability_good': prob_good})"
   ]
  },
  {
   "cell_type": "code",
   "execution_count": 8,
   "id": "5976aff7",
   "metadata": {},
   "outputs": [
    {
     "name": "stdout",
     "output_type": "stream",
     "text": [
      "2000\n"
     ]
    },
    {
     "data": {
      "text/html": [
       "<div>\n",
       "<style scoped>\n",
       "    .dataframe tbody tr th:only-of-type {\n",
       "        vertical-align: middle;\n",
       "    }\n",
       "\n",
       "    .dataframe tbody tr th {\n",
       "        vertical-align: top;\n",
       "    }\n",
       "\n",
       "    .dataframe thead th {\n",
       "        text-align: right;\n",
       "    }\n",
       "</style>\n",
       "<table border=\"1\" class=\"dataframe\">\n",
       "  <thead>\n",
       "    <tr style=\"text-align: right;\">\n",
       "      <th></th>\n",
       "      <th>image_file_name</th>\n",
       "      <th>aesthetic_score</th>\n",
       "      <th>aesthetic_quality</th>\n",
       "      <th>probability_good</th>\n",
       "    </tr>\n",
       "  </thead>\n",
       "  <tbody>\n",
       "    <tr>\n",
       "      <th>0</th>\n",
       "      <td>02_0002_0_23_1016_1067_1.png</td>\n",
       "      <td>1.333333</td>\n",
       "      <td>bad</td>\n",
       "      <td>0</td>\n",
       "    </tr>\n",
       "    <tr>\n",
       "      <th>1</th>\n",
       "      <td>02_0002_0_23_1016_1730_1.png</td>\n",
       "      <td>1.333333</td>\n",
       "      <td>bad</td>\n",
       "      <td>0</td>\n",
       "    </tr>\n",
       "    <tr>\n",
       "      <th>2</th>\n",
       "      <td>01_0001_0_15_0916_0422_1.png</td>\n",
       "      <td>3.666667</td>\n",
       "      <td>good</td>\n",
       "      <td>1</td>\n",
       "    </tr>\n",
       "    <tr>\n",
       "      <th>3</th>\n",
       "      <td>02_0002_0_24_1016_1542_1.png</td>\n",
       "      <td>2.000000</td>\n",
       "      <td>bad</td>\n",
       "      <td>0</td>\n",
       "    </tr>\n",
       "    <tr>\n",
       "      <th>4</th>\n",
       "      <td>01_0001_1_16_0916_0320_1.png</td>\n",
       "      <td>4.000000</td>\n",
       "      <td>good</td>\n",
       "      <td>1</td>\n",
       "    </tr>\n",
       "  </tbody>\n",
       "</table>\n",
       "</div>"
      ],
      "text/plain": [
       "                image_file_name  aesthetic_score aesthetic_quality  \\\n",
       "0  02_0002_0_23_1016_1067_1.png         1.333333               bad   \n",
       "1  02_0002_0_23_1016_1730_1.png         1.333333               bad   \n",
       "2  01_0001_0_15_0916_0422_1.png         3.666667              good   \n",
       "3  02_0002_0_24_1016_1542_1.png         2.000000               bad   \n",
       "4  01_0001_1_16_0916_0320_1.png         4.000000              good   \n",
       "\n",
       "   probability_good  \n",
       "0                 0  \n",
       "1                 0  \n",
       "2                 1  \n",
       "3                 0  \n",
       "4                 1  "
      ]
     },
     "execution_count": 8,
     "metadata": {},
     "output_type": "execute_result"
    }
   ],
   "source": [
    "mp_formWise_aesScores = get_form_aesScores(raw_aestheticScores_df)\n",
    "print(len(mp_formWise_aesScores))\n",
    "\n",
    "hw_aes_df = prepare_hwAesthetics_df(mp_formWise_aesScores)\n",
    "hw_aes_df.head()"
   ]
  },
  {
   "cell_type": "code",
   "execution_count": 9,
   "id": "1404d66b",
   "metadata": {},
   "outputs": [
    {
     "name": "stdout",
     "output_type": "stream",
     "text": [
      "<class 'pandas.core.frame.DataFrame'>\n",
      "RangeIndex: 166105 entries, 0 to 166104\n",
      "Data columns (total 4 columns):\n",
      " #   Column             Non-Null Count   Dtype  \n",
      "---  ------             --------------   -----  \n",
      " 0   image_file_name    166105 non-null  object \n",
      " 1   aesthetic_score    166105 non-null  float64\n",
      " 2   aesthetic_quality  166105 non-null  object \n",
      " 3   probability_good   166105 non-null  int64  \n",
      "dtypes: float64(1), int64(1), object(2)\n",
      "memory usage: 5.1+ MB\n"
     ]
    }
   ],
   "source": [
    "hw_aes_df.info()"
   ]
  },
  {
   "cell_type": "code",
   "execution_count": 10,
   "id": "03ead700",
   "metadata": {},
   "outputs": [
    {
     "data": {
      "text/plain": [
       "02_0002_0_21_1016_0809_56.png    1\n",
       "02_0002_0_24_1016_1486_78.png    1\n",
       "01_0001_1_16_0916_0119_58.png    1\n",
       "01_0001_0_17_0916_0155_79.png    1\n",
       "02_0002_0_23_1016_1485_79.png    1\n",
       "                                ..\n",
       "02_0002_0_24_1016_1255_80.png    1\n",
       "01_0001_0_16_0916_0234_31.png    1\n",
       "02_0002_0_21_1016_0782_19.png    1\n",
       "02_0002_0_22_1016_1030_12.png    1\n",
       "02_0002_1_22_1016_1479_76.png    1\n",
       "Name: image_file_name, Length: 166105, dtype: int64"
      ]
     },
     "execution_count": 10,
     "metadata": {},
     "output_type": "execute_result"
    }
   ],
   "source": [
    "hw_aes_df['image_file_name'].value_counts()"
   ]
  },
  {
   "cell_type": "code",
   "execution_count": 11,
   "id": "c256da73",
   "metadata": {},
   "outputs": [],
   "source": [
    "# save prepared dataframe as csv file\n",
    "hw_aes_df.to_csv(os.path.join('..', 'dataset', 'prepared-datasets', 'aesthetics_all.csv'), index=False)"
   ]
  },
  {
   "cell_type": "markdown",
   "id": "2dd41dde",
   "metadata": {},
   "source": [
    "  \n",
    "  ## Forming the Train, Validation & Test sets  \n",
    "  "
   ]
  },
  {
   "cell_type": "code",
   "execution_count": 12,
   "id": "7865bf9e",
   "metadata": {},
   "outputs": [
    {
     "data": {
      "text/html": [
       "<div>\n",
       "<style scoped>\n",
       "    .dataframe tbody tr th:only-of-type {\n",
       "        vertical-align: middle;\n",
       "    }\n",
       "\n",
       "    .dataframe tbody tr th {\n",
       "        vertical-align: top;\n",
       "    }\n",
       "\n",
       "    .dataframe thead th {\n",
       "        text-align: right;\n",
       "    }\n",
       "</style>\n",
       "<table border=\"1\" class=\"dataframe\">\n",
       "  <thead>\n",
       "    <tr style=\"text-align: right;\">\n",
       "      <th></th>\n",
       "      <th>Form No</th>\n",
       "      <th>Out Of 5 (1st Person)</th>\n",
       "      <th>Out of 5 (2nd Person)</th>\n",
       "      <th>Out of 5 (3rd Person)</th>\n",
       "      <th>Average</th>\n",
       "    </tr>\n",
       "  </thead>\n",
       "  <tbody>\n",
       "    <tr>\n",
       "      <th>0</th>\n",
       "      <td>1</td>\n",
       "      <td>2</td>\n",
       "      <td>4</td>\n",
       "      <td>5</td>\n",
       "      <td>3.666667</td>\n",
       "    </tr>\n",
       "    <tr>\n",
       "      <th>1</th>\n",
       "      <td>2</td>\n",
       "      <td>1</td>\n",
       "      <td>3</td>\n",
       "      <td>4</td>\n",
       "      <td>2.666667</td>\n",
       "    </tr>\n",
       "    <tr>\n",
       "      <th>2</th>\n",
       "      <td>3</td>\n",
       "      <td>3</td>\n",
       "      <td>5</td>\n",
       "      <td>4</td>\n",
       "      <td>4.000000</td>\n",
       "    </tr>\n",
       "    <tr>\n",
       "      <th>3</th>\n",
       "      <td>4</td>\n",
       "      <td>2</td>\n",
       "      <td>3</td>\n",
       "      <td>4</td>\n",
       "      <td>3.000000</td>\n",
       "    </tr>\n",
       "    <tr>\n",
       "      <th>4</th>\n",
       "      <td>5</td>\n",
       "      <td>1</td>\n",
       "      <td>3</td>\n",
       "      <td>3</td>\n",
       "      <td>2.333333</td>\n",
       "    </tr>\n",
       "  </tbody>\n",
       "</table>\n",
       "</div>"
      ],
      "text/plain": [
       "   Form No  Out Of 5 (1st Person)  Out of 5 (2nd Person)  \\\n",
       "0        1                      2                      4   \n",
       "1        2                      1                      3   \n",
       "2        3                      3                      5   \n",
       "3        4                      2                      3   \n",
       "4        5                      1                      3   \n",
       "\n",
       "   Out of 5 (3rd Person)   Average  \n",
       "0                      5  3.666667  \n",
       "1                      4  2.666667  \n",
       "2                      4  4.000000  \n",
       "3                      4  3.000000  \n",
       "4                      3  2.333333  "
      ]
     },
     "execution_count": 12,
     "metadata": {},
     "output_type": "execute_result"
    }
   ],
   "source": [
    "raw_aestheticScores_df.head()"
   ]
  },
  {
   "cell_type": "code",
   "execution_count": 13,
   "id": "29446e47",
   "metadata": {},
   "outputs": [
    {
     "data": {
      "text/html": [
       "<div>\n",
       "<style scoped>\n",
       "    .dataframe tbody tr th:only-of-type {\n",
       "        vertical-align: middle;\n",
       "    }\n",
       "\n",
       "    .dataframe tbody tr th {\n",
       "        vertical-align: top;\n",
       "    }\n",
       "\n",
       "    .dataframe thead th {\n",
       "        text-align: right;\n",
       "    }\n",
       "</style>\n",
       "<table border=\"1\" class=\"dataframe\">\n",
       "  <thead>\n",
       "    <tr style=\"text-align: right;\">\n",
       "      <th></th>\n",
       "      <th>Form No</th>\n",
       "      <th>Average</th>\n",
       "    </tr>\n",
       "  </thead>\n",
       "  <tbody>\n",
       "    <tr>\n",
       "      <th>0</th>\n",
       "      <td>1</td>\n",
       "      <td>3.666667</td>\n",
       "    </tr>\n",
       "    <tr>\n",
       "      <th>1</th>\n",
       "      <td>2</td>\n",
       "      <td>2.666667</td>\n",
       "    </tr>\n",
       "    <tr>\n",
       "      <th>2</th>\n",
       "      <td>3</td>\n",
       "      <td>4.000000</td>\n",
       "    </tr>\n",
       "    <tr>\n",
       "      <th>3</th>\n",
       "      <td>4</td>\n",
       "      <td>3.000000</td>\n",
       "    </tr>\n",
       "    <tr>\n",
       "      <th>4</th>\n",
       "      <td>5</td>\n",
       "      <td>2.333333</td>\n",
       "    </tr>\n",
       "  </tbody>\n",
       "</table>\n",
       "</div>"
      ],
      "text/plain": [
       "   Form No   Average\n",
       "0        1  3.666667\n",
       "1        2  2.666667\n",
       "2        3  4.000000\n",
       "3        4  3.000000\n",
       "4        5  2.333333"
      ]
     },
     "execution_count": 13,
     "metadata": {},
     "output_type": "execute_result"
    }
   ],
   "source": [
    "# drop unnecessary columns\n",
    "raw_aestheticScores_df = raw_aestheticScores_df[['Form No', 'Average']]\n",
    "raw_aestheticScores_df.head()"
   ]
  },
  {
   "cell_type": "code",
   "execution_count": 14,
   "id": "91d0239a",
   "metadata": {},
   "outputs": [
    {
     "data": {
      "text/html": [
       "<div>\n",
       "<style scoped>\n",
       "    .dataframe tbody tr th:only-of-type {\n",
       "        vertical-align: middle;\n",
       "    }\n",
       "\n",
       "    .dataframe tbody tr th {\n",
       "        vertical-align: top;\n",
       "    }\n",
       "\n",
       "    .dataframe thead th {\n",
       "        text-align: right;\n",
       "    }\n",
       "</style>\n",
       "<table border=\"1\" class=\"dataframe\">\n",
       "  <thead>\n",
       "    <tr style=\"text-align: right;\">\n",
       "      <th></th>\n",
       "      <th>Form No</th>\n",
       "      <th>Average</th>\n",
       "      <th>aesthetic_quality</th>\n",
       "    </tr>\n",
       "  </thead>\n",
       "  <tbody>\n",
       "    <tr>\n",
       "      <th>0</th>\n",
       "      <td>1</td>\n",
       "      <td>3.666667</td>\n",
       "      <td>good</td>\n",
       "    </tr>\n",
       "    <tr>\n",
       "      <th>1</th>\n",
       "      <td>2</td>\n",
       "      <td>2.666667</td>\n",
       "      <td>good</td>\n",
       "    </tr>\n",
       "    <tr>\n",
       "      <th>2</th>\n",
       "      <td>3</td>\n",
       "      <td>4.000000</td>\n",
       "      <td>good</td>\n",
       "    </tr>\n",
       "    <tr>\n",
       "      <th>3</th>\n",
       "      <td>4</td>\n",
       "      <td>3.000000</td>\n",
       "      <td>good</td>\n",
       "    </tr>\n",
       "    <tr>\n",
       "      <th>4</th>\n",
       "      <td>5</td>\n",
       "      <td>2.333333</td>\n",
       "      <td>bad</td>\n",
       "    </tr>\n",
       "  </tbody>\n",
       "</table>\n",
       "</div>"
      ],
      "text/plain": [
       "   Form No   Average aesthetic_quality\n",
       "0        1  3.666667              good\n",
       "1        2  2.666667              good\n",
       "2        3  4.000000              good\n",
       "3        4  3.000000              good\n",
       "4        5  2.333333               bad"
      ]
     },
     "execution_count": 14,
     "metadata": {},
     "output_type": "execute_result"
    }
   ],
   "source": [
    "# create column for labels- 'good', 'bad'\n",
    "aesthetics_labels = []\n",
    "for aes_score in raw_aestheticScores_df['Average']:\n",
    "    if aes_score >= MEAN_AES_SCORE:\n",
    "        aesthetics_labels.append('good')\n",
    "    else:\n",
    "        aesthetics_labels.append('bad')\n",
    "\n",
    "raw_aestheticScores_df['aesthetic_quality'] = aesthetics_labels\n",
    "\n",
    "raw_aestheticScores_df.head()"
   ]
  },
  {
   "cell_type": "code",
   "execution_count": 15,
   "id": "722832c7",
   "metadata": {},
   "outputs": [],
   "source": [
    "# split train:test - 80:20 keeping 'good', 'bad' label ratio stratified\n",
    "train_raw_df, test_raw_df = train_test_split(raw_aestheticScores_df, test_size=0.2, random_state=42, shuffle=True, \n",
    "                                             stratify=raw_aestheticScores_df['aesthetic_quality'])\n",
    "\n",
    "# split train:validation - 80:20 keeping 'good', 'bad' label ratio stratified\n",
    "train_raw_df, val_raw_df = train_test_split(train_raw_df, test_size=0.2, random_state=42, shuffle=True, \n",
    "                                             stratify=train_raw_df['aesthetic_quality'])"
   ]
  },
  {
   "cell_type": "code",
   "execution_count": 16,
   "id": "9deb9b29",
   "metadata": {},
   "outputs": [
    {
     "data": {
      "text/plain": [
       "bad     670\n",
       "good    610\n",
       "Name: aesthetic_quality, dtype: int64"
      ]
     },
     "execution_count": 16,
     "metadata": {},
     "output_type": "execute_result"
    }
   ],
   "source": [
    "train_raw_df['aesthetic_quality'].value_counts()"
   ]
  },
  {
   "cell_type": "code",
   "execution_count": 17,
   "id": "b2fbd179",
   "metadata": {},
   "outputs": [
    {
     "data": {
      "text/plain": [
       "bad     168\n",
       "good    152\n",
       "Name: aesthetic_quality, dtype: int64"
      ]
     },
     "execution_count": 17,
     "metadata": {},
     "output_type": "execute_result"
    }
   ],
   "source": [
    "val_raw_df['aesthetic_quality'].value_counts()"
   ]
  },
  {
   "cell_type": "code",
   "execution_count": 18,
   "id": "98699f3b",
   "metadata": {},
   "outputs": [
    {
     "data": {
      "text/plain": [
       "bad     209\n",
       "good    191\n",
       "Name: aesthetic_quality, dtype: int64"
      ]
     },
     "execution_count": 18,
     "metadata": {},
     "output_type": "execute_result"
    }
   ],
   "source": [
    "test_raw_df['aesthetic_quality'].value_counts()"
   ]
  },
  {
   "cell_type": "code",
   "execution_count": 19,
   "id": "8918316a",
   "metadata": {},
   "outputs": [],
   "source": [
    "#train_raw_df.head()\n",
    "#val_raw_df.head()\n",
    "#test_raw_df.head()"
   ]
  },
  {
   "cell_type": "code",
   "execution_count": 20,
   "id": "e51eab38",
   "metadata": {},
   "outputs": [
    {
     "data": {
      "text/plain": [
       "bad     55525\n",
       "good    50703\n",
       "Name: aesthetic_quality, dtype: int64"
      ]
     },
     "execution_count": 20,
     "metadata": {},
     "output_type": "execute_result"
    }
   ],
   "source": [
    "train_hwAes_df = prepare_hwAesthetics_df(get_form_aesScores(train_raw_df))\n",
    "# train_hwAes_df.head()\n",
    "train_hwAes_df['aesthetic_quality'].value_counts()"
   ]
  },
  {
   "cell_type": "code",
   "execution_count": 21,
   "id": "4d32e5e9",
   "metadata": {},
   "outputs": [
    {
     "data": {
      "text/plain": [
       "bad     13988\n",
       "good    12487\n",
       "Name: aesthetic_quality, dtype: int64"
      ]
     },
     "execution_count": 21,
     "metadata": {},
     "output_type": "execute_result"
    }
   ],
   "source": [
    "val_hwAes_df = prepare_hwAesthetics_df(get_form_aesScores(val_raw_df))\n",
    "#val_hwAes_df.head()\n",
    "val_hwAes_df['aesthetic_quality'].value_counts()"
   ]
  },
  {
   "cell_type": "code",
   "execution_count": 22,
   "id": "a9a448ea",
   "metadata": {},
   "outputs": [
    {
     "data": {
      "text/plain": [
       "bad     17459\n",
       "good    15943\n",
       "Name: aesthetic_quality, dtype: int64"
      ]
     },
     "execution_count": 22,
     "metadata": {},
     "output_type": "execute_result"
    }
   ],
   "source": [
    "test_hwAes_df = prepare_hwAesthetics_df(get_form_aesScores(test_raw_df))\n",
    "#test_hwAes_df.head()\n",
    "test_hwAes_df['aesthetic_quality'].value_counts()"
   ]
  },
  {
   "cell_type": "code",
   "execution_count": 23,
   "id": "21314dd6",
   "metadata": {},
   "outputs": [],
   "source": [
    "# save prepared dataframes as csv file\n",
    "train_hwAes_df.to_csv(os.path.join('..', 'dataset', 'prepared-datasets', 'aesthetics_train.csv'), index=False)\n",
    "val_hwAes_df.to_csv(os.path.join('..', 'dataset', 'prepared-datasets', 'aesthetics_val.csv'), index=False)\n",
    "test_hwAes_df.to_csv(os.path.join('..', 'dataset', 'prepared-datasets', 'aesthetics_test.csv'), index=False)"
   ]
  },
  {
   "cell_type": "markdown",
   "id": "7a3a48e7",
   "metadata": {},
   "source": [
    "  \n",
    "  ## Split the sample images dataset to separate train, validation, test folders  \n",
    "  "
   ]
  },
  {
   "cell_type": "code",
   "execution_count": 24,
   "id": "a9482a3e",
   "metadata": {},
   "outputs": [],
   "source": [
    "'''\n",
    "params- dataframe with image file names\n",
    "returns set of image file names\n",
    "'''\n",
    "def get_img_file_names(hwAes_df):\n",
    "    img_file_names = set()\n",
    "    for img in hwAes_df['image_file_name']:\n",
    "        img_file_names.add(img)\n",
    "    \n",
    "    return img_file_names\n",
    "\n",
    "# create set of image file names\n",
    "train_img_files = get_img_file_names(train_hwAes_df)\n",
    "val_img_files = get_img_file_names(val_hwAes_df)\n",
    "test_img_files = get_img_file_names(test_hwAes_df)"
   ]
  },
  {
   "cell_type": "code",
   "execution_count": 31,
   "id": "f81d56f5",
   "metadata": {},
   "outputs": [
    {
     "name": "stdout",
     "output_type": "stream",
     "text": [
      "166105\n",
      "set() set() set()\n"
     ]
    }
   ],
   "source": [
    "print(len(train_img_files)+len(val_img_files)+len(test_img_files))\n",
    "print(train_img_files&val_img_files, train_img_files&test_img_files, val_img_files&test_img_files)"
   ]
  },
  {
   "cell_type": "code",
   "execution_count": 35,
   "id": "3864974b",
   "metadata": {},
   "outputs": [],
   "source": [
    "# copy (and replace) files to corresponding destination folders\n",
    "import shutil\n",
    "\n",
    "images_dir = os.path.join('..', 'dataset', 'BanglaLekha-Isolated', 'Images')\n",
    "    \n",
    "for i in range(1, 84+1):\n",
    "    \n",
    "    curr_dir = os.path.join(images_dir, str(i))\n",
    "\n",
    "    for file_name in os.listdir(curr_dir): \n",
    "        if os.path.isfile(os.path.join(curr_dir, file_name)) == False:\n",
    "            continue \n",
    "        \n",
    "        curr_path = os.path.join(curr_dir, file_name)\n",
    "        dest_path = os.path.join('..', 'dataset', 'prepared-datasets')\n",
    "        \n",
    "        dest_folder='who_are_you'        \n",
    "        if file_name in train_img_files:\n",
    "            dest_folder = 'train_images'\n",
    "        elif file_name in val_img_files:\n",
    "            dest_folder = 'validation_images'\n",
    "        elif file_name in test_img_files:\n",
    "            dest_folder = 'test_images'\n",
    "        \n",
    "        dest_path = os.path.join(dest_path, dest_folder)\n",
    "        \n",
    "        shutil.copy(curr_path, dest_path)"
   ]
  }
 ],
 "metadata": {
  "kernelspec": {
   "display_name": "Python 3",
   "language": "python",
   "name": "python3"
  },
  "language_info": {
   "codemirror_mode": {
    "name": "ipython",
    "version": 3
   },
   "file_extension": ".py",
   "mimetype": "text/x-python",
   "name": "python",
   "nbconvert_exporter": "python",
   "pygments_lexer": "ipython3",
   "version": "3.8.8"
  }
 },
 "nbformat": 4,
 "nbformat_minor": 5
}
