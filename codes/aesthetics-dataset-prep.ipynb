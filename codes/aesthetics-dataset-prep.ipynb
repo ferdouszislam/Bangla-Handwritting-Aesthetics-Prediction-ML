{
 "cells": [
  {
   "cell_type": "code",
   "execution_count": 1,
   "id": "b3e6bd7e",
   "metadata": {},
   "outputs": [],
   "source": [
    "# required for jupyter notebook\n",
    "%matplotlib inline \n",
    "\n",
    "import numpy as np\n",
    "import pandas as pd\n",
    "\n",
    "import os\n",
    "import math"
   ]
  },
  {
   "cell_type": "markdown",
   "id": "3ff72aae",
   "metadata": {},
   "source": [
    "### Mean aesthetic score = 2.455"
   ]
  },
  {
   "cell_type": "code",
   "execution_count": 8,
   "id": "2afb1f68",
   "metadata": {},
   "outputs": [],
   "source": [
    "MEAN_AES_SCORE = 2.455"
   ]
  },
  {
   "cell_type": "code",
   "execution_count": 16,
   "id": "7dabd5c7",
   "metadata": {},
   "outputs": [],
   "source": [
    "raw_aestheticScores_df = pd.read_csv(os.path.join('..', 'dataset', 'BanglaLekha-Isolated', 'aesthetic-scores.csv'))"
   ]
  },
  {
   "cell_type": "code",
   "execution_count": 17,
   "id": "db592075",
   "metadata": {},
   "outputs": [
    {
     "data": {
      "text/html": [
       "<div>\n",
       "<style scoped>\n",
       "    .dataframe tbody tr th:only-of-type {\n",
       "        vertical-align: middle;\n",
       "    }\n",
       "\n",
       "    .dataframe tbody tr th {\n",
       "        vertical-align: top;\n",
       "    }\n",
       "\n",
       "    .dataframe thead th {\n",
       "        text-align: right;\n",
       "    }\n",
       "</style>\n",
       "<table border=\"1\" class=\"dataframe\">\n",
       "  <thead>\n",
       "    <tr style=\"text-align: right;\">\n",
       "      <th></th>\n",
       "      <th>Form No</th>\n",
       "      <th>Out Of 5 (1st Person)</th>\n",
       "      <th>Out of 5 (2nd Person)</th>\n",
       "      <th>Out of 5 (3rd Person)</th>\n",
       "      <th>Average</th>\n",
       "    </tr>\n",
       "  </thead>\n",
       "  <tbody>\n",
       "    <tr>\n",
       "      <th>0</th>\n",
       "      <td>1</td>\n",
       "      <td>2</td>\n",
       "      <td>4</td>\n",
       "      <td>5</td>\n",
       "      <td>3.666667</td>\n",
       "    </tr>\n",
       "    <tr>\n",
       "      <th>1</th>\n",
       "      <td>2</td>\n",
       "      <td>1</td>\n",
       "      <td>3</td>\n",
       "      <td>4</td>\n",
       "      <td>2.666667</td>\n",
       "    </tr>\n",
       "    <tr>\n",
       "      <th>2</th>\n",
       "      <td>3</td>\n",
       "      <td>3</td>\n",
       "      <td>5</td>\n",
       "      <td>4</td>\n",
       "      <td>4.000000</td>\n",
       "    </tr>\n",
       "    <tr>\n",
       "      <th>3</th>\n",
       "      <td>4</td>\n",
       "      <td>2</td>\n",
       "      <td>3</td>\n",
       "      <td>4</td>\n",
       "      <td>3.000000</td>\n",
       "    </tr>\n",
       "    <tr>\n",
       "      <th>4</th>\n",
       "      <td>5</td>\n",
       "      <td>1</td>\n",
       "      <td>3</td>\n",
       "      <td>3</td>\n",
       "      <td>2.333333</td>\n",
       "    </tr>\n",
       "  </tbody>\n",
       "</table>\n",
       "</div>"
      ],
      "text/plain": [
       "   Form No  Out Of 5 (1st Person)  Out of 5 (2nd Person)  \\\n",
       "0        1                      2                      4   \n",
       "1        2                      1                      3   \n",
       "2        3                      3                      5   \n",
       "3        4                      2                      3   \n",
       "4        5                      1                      3   \n",
       "\n",
       "   Out of 5 (3rd Person)   Average  \n",
       "0                      5  3.666667  \n",
       "1                      4  2.666667  \n",
       "2                      4  4.000000  \n",
       "3                      4  3.000000  \n",
       "4                      3  2.333333  "
      ]
     },
     "execution_count": 17,
     "metadata": {},
     "output_type": "execute_result"
    }
   ],
   "source": [
    "raw_aestheticScores_df.head()"
   ]
  },
  {
   "cell_type": "code",
   "execution_count": 18,
   "id": "21b26ede",
   "metadata": {},
   "outputs": [],
   "source": [
    "'''\n",
    "returns a map of key->value : form_id->aesthetic_score\n",
    "'''\n",
    "def get_form_aesScores(raw_aestheticScores_df):\n",
    "    \n",
    "    form_aesScores = {} \n",
    "    \n",
    "    form_ids = []\n",
    "    aes_scores = []\n",
    "    for form_id in raw_aestheticScores_df['Form No']:\n",
    "        form_ids.append(form_id)\n",
    "    for aes_score in raw_aestheticScores_df['Average']:\n",
    "        aes_scores.append(aes_score)\n",
    "        \n",
    "    for i in range(len(form_ids)):\n",
    "        form_aesScores[form_ids[i]] = aes_scores[i]\n",
    "        \n",
    "    return form_aesScores"
   ]
  },
  {
   "cell_type": "code",
   "execution_count": 19,
   "id": "0853f051",
   "metadata": {},
   "outputs": [
    {
     "data": {
      "text/plain": [
       "2000"
      ]
     },
     "execution_count": 19,
     "metadata": {},
     "output_type": "execute_result"
    }
   ],
   "source": [
    "mp_formWise_aesScores = get_form_aesScores(raw_aestheticScores_df)\n",
    "len(mp_formWise_aesScores)"
   ]
  },
  {
   "cell_type": "code",
   "execution_count": 23,
   "id": "20b26c6e",
   "metadata": {},
   "outputs": [],
   "source": [
    "'''\n",
    "create 4 PARALLEL lists- image_file_name[], aesthetic_score[], aesthetic_quality[], prob_good[]\n",
    "image_file_name[] = name of the sample image file\n",
    "aesthetic_score[] = aesthetic score assigned in decimal point number\n",
    "aesthetic_quality[] = label- 'good' or 'bad'\n",
    "prob_good[] = 1 if good, 0 if bad \n",
    "\n",
    "returns a dataframe with each list as a column\n",
    "'''\n",
    "def prepare_hwAesthetics_df(mp_formWise_aesScores, begin=1, end=84, mean_aesScore = 2.455):\n",
    "\n",
    "    image_file_name, aesthetic_score, aesthetic_quality, prob_good = [], [], [], []\n",
    "    \n",
    "    images_dir = os.path.join('..', 'dataset', 'BanglaLekha-Isolated', 'Images')\n",
    "    \n",
    "    for i in range(begin, end+1):\n",
    "        \n",
    "        curr_dir = os.path.join(images_dir, str(i))\n",
    "        \n",
    "        for file_name in os.listdir(curr_dir): \n",
    "            if os.path.isfile(os.path.join(curr_dir, file_name)) == False:\n",
    "                continue\n",
    "                \n",
    "            form_id = int(file_name.split('_')[5])\n",
    "            aes_score = mp_formWise_aesScores[form_id]\n",
    "            \n",
    "            image_file_name.append(file_name)\n",
    "            aesthetic_score.append(aes_score)\n",
    "            if aes_score >= mean_aesScore:\n",
    "                aesthetic_quality.append('good')\n",
    "                prob_good.append(1)\n",
    "            else:\n",
    "                aesthetic_quality.append('bad')\n",
    "                prob_good.append(0)\n",
    "                \n",
    "    return pd.DataFrame({'image_file_name': image_file_name,\n",
    "                       'aesthetic_score': aesthetic_score,\n",
    "                       'aesthetic_quality': aesthetic_quality,\n",
    "                       'probability_good': prob_good})"
   ]
  },
  {
   "cell_type": "code",
   "execution_count": 25,
   "id": "5976aff7",
   "metadata": {},
   "outputs": [
    {
     "data": {
      "text/html": [
       "<div>\n",
       "<style scoped>\n",
       "    .dataframe tbody tr th:only-of-type {\n",
       "        vertical-align: middle;\n",
       "    }\n",
       "\n",
       "    .dataframe tbody tr th {\n",
       "        vertical-align: top;\n",
       "    }\n",
       "\n",
       "    .dataframe thead th {\n",
       "        text-align: right;\n",
       "    }\n",
       "</style>\n",
       "<table border=\"1\" class=\"dataframe\">\n",
       "  <thead>\n",
       "    <tr style=\"text-align: right;\">\n",
       "      <th></th>\n",
       "      <th>image_file_name</th>\n",
       "      <th>aesthetic_score</th>\n",
       "      <th>aesthetic_quality</th>\n",
       "      <th>probability_good</th>\n",
       "    </tr>\n",
       "  </thead>\n",
       "  <tbody>\n",
       "    <tr>\n",
       "      <th>0</th>\n",
       "      <td>02_0002_0_23_1016_1067_1.png</td>\n",
       "      <td>1.333333</td>\n",
       "      <td>bad</td>\n",
       "      <td>0</td>\n",
       "    </tr>\n",
       "    <tr>\n",
       "      <th>1</th>\n",
       "      <td>02_0002_0_23_1016_1730_1.png</td>\n",
       "      <td>1.333333</td>\n",
       "      <td>bad</td>\n",
       "      <td>0</td>\n",
       "    </tr>\n",
       "    <tr>\n",
       "      <th>2</th>\n",
       "      <td>01_0001_0_15_0916_0422_1.png</td>\n",
       "      <td>3.666667</td>\n",
       "      <td>good</td>\n",
       "      <td>1</td>\n",
       "    </tr>\n",
       "    <tr>\n",
       "      <th>3</th>\n",
       "      <td>02_0002_0_24_1016_1542_1.png</td>\n",
       "      <td>2.000000</td>\n",
       "      <td>bad</td>\n",
       "      <td>0</td>\n",
       "    </tr>\n",
       "    <tr>\n",
       "      <th>4</th>\n",
       "      <td>01_0001_1_16_0916_0320_1.png</td>\n",
       "      <td>4.000000</td>\n",
       "      <td>good</td>\n",
       "      <td>1</td>\n",
       "    </tr>\n",
       "  </tbody>\n",
       "</table>\n",
       "</div>"
      ],
      "text/plain": [
       "                image_file_name  aesthetic_score aesthetic_quality  \\\n",
       "0  02_0002_0_23_1016_1067_1.png         1.333333               bad   \n",
       "1  02_0002_0_23_1016_1730_1.png         1.333333               bad   \n",
       "2  01_0001_0_15_0916_0422_1.png         3.666667              good   \n",
       "3  02_0002_0_24_1016_1542_1.png         2.000000               bad   \n",
       "4  01_0001_1_16_0916_0320_1.png         4.000000              good   \n",
       "\n",
       "   probability_good  \n",
       "0                 0  \n",
       "1                 0  \n",
       "2                 1  \n",
       "3                 0  \n",
       "4                 1  "
      ]
     },
     "execution_count": 25,
     "metadata": {},
     "output_type": "execute_result"
    }
   ],
   "source": [
    "hw_aes_df = prepare_hwAesthetics_df(mp_formWise_aesScores)\n",
    "hw_aes_df.head()"
   ]
  },
  {
   "cell_type": "code",
   "execution_count": 26,
   "id": "1404d66b",
   "metadata": {},
   "outputs": [
    {
     "name": "stdout",
     "output_type": "stream",
     "text": [
      "<class 'pandas.core.frame.DataFrame'>\n",
      "RangeIndex: 166105 entries, 0 to 166104\n",
      "Data columns (total 4 columns):\n",
      " #   Column             Non-Null Count   Dtype  \n",
      "---  ------             --------------   -----  \n",
      " 0   image_file_name    166105 non-null  object \n",
      " 1   aesthetic_score    166105 non-null  float64\n",
      " 2   aesthetic_quality  166105 non-null  object \n",
      " 3   probability_good   166105 non-null  int64  \n",
      "dtypes: float64(1), int64(1), object(2)\n",
      "memory usage: 5.1+ MB\n"
     ]
    }
   ],
   "source": [
    "hw_aes_df.info()"
   ]
  },
  {
   "cell_type": "code",
   "execution_count": 29,
   "id": "c256da73",
   "metadata": {},
   "outputs": [],
   "source": [
    "# save prepared dataframe as csv file\n",
    "hw_aes_df.to_csv(os.path.join('..', 'dataset', 'prepared-datasets', 'aesthetics.csv'), index=False)"
   ]
  }
 ],
 "metadata": {
  "kernelspec": {
   "display_name": "Python 3",
   "language": "python",
   "name": "python3"
  },
  "language_info": {
   "codemirror_mode": {
    "name": "ipython",
    "version": 3
   },
   "file_extension": ".py",
   "mimetype": "text/x-python",
   "name": "python",
   "nbconvert_exporter": "python",
   "pygments_lexer": "ipython3",
   "version": "3.8.8"
  }
 },
 "nbformat": 4,
 "nbformat_minor": 5
}
