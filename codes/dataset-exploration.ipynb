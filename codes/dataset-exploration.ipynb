{
 "cells": [
  {
   "cell_type": "code",
   "execution_count": 1,
   "id": "8ea72426",
   "metadata": {},
   "outputs": [],
   "source": [
    "# required for jupyter notebook\n",
    "%matplotlib inline \n",
    "\n",
    "import matplotlib\n",
    "import matplotlib.pyplot as plt\n",
    "import numpy as np\n",
    "import pandas as pd\n",
    "\n",
    "import os\n",
    "import math"
   ]
  },
  {
   "cell_type": "code",
   "execution_count": 2,
   "id": "7562dfe0",
   "metadata": {},
   "outputs": [],
   "source": [
    "aestheticScores_df = pd.read_csv('..'+os.sep+'dataset'+os.sep+'BanglaLekha-Isolated'+os.sep+'aesthetic-scores.csv')"
   ]
  },
  {
   "cell_type": "code",
   "execution_count": 3,
   "id": "304b2011",
   "metadata": {},
   "outputs": [
    {
     "name": "stdout",
     "output_type": "stream",
     "text": [
      "<class 'pandas.core.frame.DataFrame'>\n",
      "RangeIndex: 2000 entries, 0 to 1999\n",
      "Data columns (total 5 columns):\n",
      " #   Column                 Non-Null Count  Dtype  \n",
      "---  ------                 --------------  -----  \n",
      " 0   Form No                2000 non-null   int64  \n",
      " 1   Out Of 5 (1st Person)  2000 non-null   int64  \n",
      " 2   Out of 5 (2nd Person)  2000 non-null   int64  \n",
      " 3   Out of 5 (3rd Person)  2000 non-null   int64  \n",
      " 4   Average                2000 non-null   float64\n",
      "dtypes: float64(1), int64(4)\n",
      "memory usage: 78.2 KB\n"
     ]
    }
   ],
   "source": [
    "aestheticScores_df.info()"
   ]
  },
  {
   "cell_type": "code",
   "execution_count": 4,
   "id": "b82fc115",
   "metadata": {},
   "outputs": [
    {
     "data": {
      "text/html": [
       "<div>\n",
       "<style scoped>\n",
       "    .dataframe tbody tr th:only-of-type {\n",
       "        vertical-align: middle;\n",
       "    }\n",
       "\n",
       "    .dataframe tbody tr th {\n",
       "        vertical-align: top;\n",
       "    }\n",
       "\n",
       "    .dataframe thead th {\n",
       "        text-align: right;\n",
       "    }\n",
       "</style>\n",
       "<table border=\"1\" class=\"dataframe\">\n",
       "  <thead>\n",
       "    <tr style=\"text-align: right;\">\n",
       "      <th></th>\n",
       "      <th>Form No</th>\n",
       "      <th>Out Of 5 (1st Person)</th>\n",
       "      <th>Out of 5 (2nd Person)</th>\n",
       "      <th>Out of 5 (3rd Person)</th>\n",
       "      <th>Average</th>\n",
       "    </tr>\n",
       "  </thead>\n",
       "  <tbody>\n",
       "    <tr>\n",
       "      <th>0</th>\n",
       "      <td>1</td>\n",
       "      <td>2</td>\n",
       "      <td>4</td>\n",
       "      <td>5</td>\n",
       "      <td>3.666667</td>\n",
       "    </tr>\n",
       "    <tr>\n",
       "      <th>1</th>\n",
       "      <td>2</td>\n",
       "      <td>1</td>\n",
       "      <td>3</td>\n",
       "      <td>4</td>\n",
       "      <td>2.666667</td>\n",
       "    </tr>\n",
       "    <tr>\n",
       "      <th>2</th>\n",
       "      <td>3</td>\n",
       "      <td>3</td>\n",
       "      <td>5</td>\n",
       "      <td>4</td>\n",
       "      <td>4.000000</td>\n",
       "    </tr>\n",
       "    <tr>\n",
       "      <th>3</th>\n",
       "      <td>4</td>\n",
       "      <td>2</td>\n",
       "      <td>3</td>\n",
       "      <td>4</td>\n",
       "      <td>3.000000</td>\n",
       "    </tr>\n",
       "    <tr>\n",
       "      <th>4</th>\n",
       "      <td>5</td>\n",
       "      <td>1</td>\n",
       "      <td>3</td>\n",
       "      <td>3</td>\n",
       "      <td>2.333333</td>\n",
       "    </tr>\n",
       "  </tbody>\n",
       "</table>\n",
       "</div>"
      ],
      "text/plain": [
       "   Form No  Out Of 5 (1st Person)  Out of 5 (2nd Person)  \\\n",
       "0        1                      2                      4   \n",
       "1        2                      1                      3   \n",
       "2        3                      3                      5   \n",
       "3        4                      2                      3   \n",
       "4        5                      1                      3   \n",
       "\n",
       "   Out of 5 (3rd Person)   Average  \n",
       "0                      5  3.666667  \n",
       "1                      4  2.666667  \n",
       "2                      4  4.000000  \n",
       "3                      4  3.000000  \n",
       "4                      3  2.333333  "
      ]
     },
     "execution_count": 4,
     "metadata": {},
     "output_type": "execute_result"
    }
   ],
   "source": [
    "aestheticScores_df.head()"
   ]
  },
  {
   "cell_type": "code",
   "execution_count": 5,
   "id": "84f6e8cf",
   "metadata": {},
   "outputs": [
    {
     "data": {
      "text/plain": [
       "0    3.667\n",
       "1    2.667\n",
       "2    4.000\n",
       "3    3.000\n",
       "4    2.333\n",
       "Name: Average, dtype: float64"
      ]
     },
     "execution_count": 5,
     "metadata": {},
     "output_type": "execute_result"
    }
   ],
   "source": [
    "aestheticScores_df = aestheticScores_df.round(decimals=3)\n",
    "aestheticScores_df['Average'].head()"
   ]
  },
  {
   "cell_type": "code",
   "execution_count": 6,
   "id": "8481c1dc",
   "metadata": {},
   "outputs": [
    {
     "data": {
      "text/plain": [
       "1.000    266\n",
       "3.000    219\n",
       "2.000    217\n",
       "2.667    199\n",
       "2.333    194\n",
       "1.667    185\n",
       "1.333    185\n",
       "3.333    181\n",
       "3.667    155\n",
       "4.000    107\n",
       "4.333     57\n",
       "4.667     26\n",
       "5.000      9\n",
       "Name: Average, dtype: int64"
      ]
     },
     "execution_count": 6,
     "metadata": {},
     "output_type": "execute_result"
    }
   ],
   "source": [
    "aestheticScores_df['Average'].value_counts()"
   ]
  },
  {
   "cell_type": "markdown",
   "id": "1f9da500",
   "metadata": {},
   "source": [
    "  \n",
    "  ### Ignore the codes below (starting here)"
   ]
  },
  {
   "cell_type": "code",
   "execution_count": 7,
   "id": "8edc23b3",
   "metadata": {
    "scrolled": true
   },
   "outputs": [
    {
     "data": {
      "image/png": "[encoded data removed]",
      "text/plain": [
       "<Figure size 432x288 with 1 Axes>"
      ]
     },
     "metadata": {
      "needs_background": "light"
     },
     "output_type": "display_data"
    }
   ],
   "source": [
    "uniq_score_freq = aestheticScores_df['Average'].apply(np.floor).value_counts()\n",
    "uniq_score_freq.sort_values(ascending=False).plot.bar()\n",
    "plt.show()"
   ]
  },
  {
   "cell_type": "code",
   "execution_count": 8,
   "id": "f6ff2b4a",
   "metadata": {},
   "outputs": [
    {
     "data": {
      "image/png": "[encoded data removed]",
      "text/plain": [
       "<Figure size 432x288 with 1 Axes>"
      ]
     },
     "metadata": {
      "needs_background": "light"
     },
     "output_type": "display_data"
    }
   ],
   "source": [
    "plt.boxplot(aestheticScores_df['Average'], vert=0)\n",
    "plt.show()"
   ]
  },
  {
   "cell_type": "code",
   "execution_count": 9,
   "id": "5eeaf9ed",
   "metadata": {},
   "outputs": [],
   "source": [
    "good_cnt = 0\n",
    "bad_cnt = 0\n",
    "for avg in aestheticScores_df['Average']:\n",
    "    if avg>=2.5:\n",
    "        good_cnt+=1\n",
    "    else:\n",
    "        bad_cnt+=1"
   ]
  },
  {
   "cell_type": "code",
   "execution_count": 10,
   "id": "bec89280",
   "metadata": {},
   "outputs": [
    {
     "data": {
      "text/plain": [
       "953"
      ]
     },
     "execution_count": 10,
     "metadata": {},
     "output_type": "execute_result"
    }
   ],
   "source": [
    "good_cnt"
   ]
  },
  {
   "cell_type": "code",
   "execution_count": 11,
   "id": "81dac78b",
   "metadata": {},
   "outputs": [
    {
     "data": {
      "text/plain": [
       "1047"
      ]
     },
     "execution_count": 11,
     "metadata": {},
     "output_type": "execute_result"
    }
   ],
   "source": [
    "bad_cnt"
   ]
  },
  {
   "cell_type": "code",
   "execution_count": 12,
   "id": "6a77a0dc",
   "metadata": {},
   "outputs": [
    {
     "name": "stdout",
     "output_type": "stream",
     "text": [
      "Good=47.65%, Bad=52.35%\n"
     ]
    }
   ],
   "source": [
    "total_cnt = good_cnt + bad_cnt\n",
    "print('Good={}%, Bad={}%'.format(good_cnt*100/total_cnt, bad_cnt*100/total_cnt,))"
   ]
  },
  {
   "cell_type": "markdown",
   "id": "ab586eea",
   "metadata": {},
   "source": [
    "### Ignore the codes above (ending here)  \n"
   ]
  },
  {
   "cell_type": "markdown",
   "id": "cace5c8a",
   "metadata": {},
   "source": [
    "  \n",
    "    "
   ]
  },
  {
   "cell_type": "markdown",
   "id": "1ff1099c",
   "metadata": {},
   "source": [
    "  \n",
    "## Not all of the 2000 forms contain 84 handwriting images. There are some missing data.   \n"
   ]
  },
  {
   "cell_type": "code",
   "execution_count": 13,
   "id": "6f75bad6",
   "metadata": {},
   "outputs": [],
   "source": [
    "def get_formWise_imageFreq(begin=1, end=84):\n",
    "\n",
    "    images_dir = os.path.join('..', 'dataset', 'BanglaLekha-Isolated', 'Images')\n",
    "    form_freqs = {}\n",
    "    for i in range(begin, end+1):\n",
    "        curr_dir = os.path.join(images_dir, str(i))\n",
    "        for file_name in os.listdir(curr_dir): \n",
    "            if os.path.isfile(os.path.join(curr_dir, file_name)):\n",
    "                form_id = int(file_name.split('_')[5])\n",
    "                if form_id not in form_freqs:\n",
    "                    form_freqs[form_id] = 0\n",
    "                form_freqs[form_id]+=1\n",
    "                \n",
    "    return dict(sorted(form_freqs.items()))"
   ]
  },
  {
   "cell_type": "code",
   "execution_count": 14,
   "id": "cf827b78",
   "metadata": {},
   "outputs": [],
   "source": [
    "all_form_freqs = get_formWise_imageFreq()"
   ]
  },
  {
   "cell_type": "code",
   "execution_count": 15,
   "id": "2a60d3f0",
   "metadata": {},
   "outputs": [
    {
     "data": {
      "text/plain": [
       "1989"
      ]
     },
     "execution_count": 15,
     "metadata": {},
     "output_type": "execute_result"
    }
   ],
   "source": [
    "len(all_form_freqs)"
   ]
  },
  {
   "cell_type": "code",
   "execution_count": 16,
   "id": "9f81fdf2",
   "metadata": {},
   "outputs": [],
   "source": [
    "#all_form_freqs"
   ]
  },
  {
   "cell_type": "code",
   "execution_count": 17,
   "id": "ef657410",
   "metadata": {},
   "outputs": [],
   "source": [
    "def get_form_aesScores():\n",
    "    \n",
    "    form_aesScores = {} \n",
    "    \n",
    "    form_ids = []\n",
    "    aes_scores = []\n",
    "    for form_id in aestheticScores_df['Form No']:\n",
    "        form_ids.append(form_id)\n",
    "    for aes_score in aestheticScores_df['Average']:\n",
    "        aes_scores.append(aes_score)\n",
    "        \n",
    "    for i in range(len(form_ids)):\n",
    "        form_aesScores[form_ids[i]] = aes_scores[i]\n",
    "        \n",
    "    return form_aesScores"
   ]
  },
  {
   "cell_type": "code",
   "execution_count": 18,
   "id": "f1fed821",
   "metadata": {},
   "outputs": [],
   "source": [
    "form_aesScores = get_form_aesScores()"
   ]
  },
  {
   "cell_type": "code",
   "execution_count": 19,
   "id": "5149b9ea",
   "metadata": {},
   "outputs": [],
   "source": [
    "#form_aesScores"
   ]
  },
  {
   "cell_type": "code",
   "execution_count": 20,
   "id": "00715cc3",
   "metadata": {},
   "outputs": [],
   "source": [
    "#aestheticScores_df.head()"
   ]
  },
  {
   "cell_type": "code",
   "execution_count": 21,
   "id": "8f3ab52e",
   "metadata": {},
   "outputs": [],
   "source": [
    "def get_aesScoreWise_imageFreq(start=1, end=84):    \n",
    "    \n",
    "    form_aesScores = get_form_aesScores()\n",
    "    form_image_freqs = get_formWise_imageFreq(start, end)\n",
    "    \n",
    "    aesScore_image_freq = {}\n",
    "\n",
    "    for form_id in range(1, 2001):\n",
    "        if form_id not in form_image_freqs or form_id not in form_aesScores:\n",
    "            continue\n",
    "\n",
    "        curr_aesScore = form_aesScores[form_id]\n",
    "        curr_form_freq = form_image_freqs[form_id]\n",
    "\n",
    "        if curr_aesScore not in aesScore_image_freq:\n",
    "            aesScore_image_freq[curr_aesScore] = 0\n",
    "\n",
    "        aesScore_image_freq[curr_aesScore] += curr_form_freq\n",
    "        \n",
    "    return aesScore_image_freq"
   ]
  },
  {
   "cell_type": "code",
   "execution_count": 22,
   "id": "3f7aeb80",
   "metadata": {},
   "outputs": [
    {
     "data": {
      "text/plain": [
       "{3.667: 12749,\n",
       " 2.667: 16585,\n",
       " 4.0: 8899,\n",
       " 3.0: 18269,\n",
       " 2.333: 16233,\n",
       " 4.333: 4699,\n",
       " 3.333: 15077,\n",
       " 2.0: 18157,\n",
       " 1.667: 15461,\n",
       " 4.667: 2100,\n",
       " 1.333: 15382,\n",
       " 5.0: 755,\n",
       " 1.0: 21739}"
      ]
     },
     "execution_count": 22,
     "metadata": {},
     "output_type": "execute_result"
    }
   ],
   "source": [
    "aesScore_image_freq = get_aesScoreWise_imageFreq()\n",
    "aesScore_image_freq"
   ]
  },
  {
   "cell_type": "code",
   "execution_count": 23,
   "id": "5722b7e7",
   "metadata": {},
   "outputs": [],
   "source": [
    "#aestheticScores_df['Average'].value_counts()"
   ]
  },
  {
   "cell_type": "code",
   "execution_count": 38,
   "id": "49d7055f",
   "metadata": {},
   "outputs": [
    {
     "data": {
      "image/png": "[encoded data removed]",
      "text/plain": [
       "<Figure size 432x288 with 1 Axes>"
      ]
     },
     "metadata": {
      "needs_background": "light"
     },
     "output_type": "display_data"
    }
   ],
   "source": [
    "plt.bar(aesScore_image_freq.keys(), aesScore_image_freq.values(), width = 0.3, color='g')\n",
    "plt.ylabel('number of samples')\n",
    "plt.xlabel('aesthetic scores')\n",
    "plt.show()"
   ]
  },
  {
   "cell_type": "code",
   "execution_count": 39,
   "id": "9ab76d47",
   "metadata": {},
   "outputs": [],
   "source": [
    "def box_plot_dict(dictonary):\n",
    "    seq = []\n",
    "    for(k, v) in dictonary.items():\n",
    "        while v>0:\n",
    "            seq.append(k)\n",
    "            v-=1\n",
    "        \n",
    "    plt.boxplot(seq, vert=False)\n",
    "    plt.xlabel('aesthetic scores')\n",
    "    plt.show()"
   ]
  },
  {
   "cell_type": "code",
   "execution_count": 40,
   "id": "96dcbb5e",
   "metadata": {},
   "outputs": [
    {
     "data": {
      "image/png": "[encoded data removed]",
      "text/plain": [
       "<Figure size 432x288 with 1 Axes>"
      ]
     },
     "metadata": {
      "needs_background": "light"
     },
     "output_type": "display_data"
    }
   ],
   "source": [
    "box_plot_dict(aesScore_image_freq)"
   ]
  },
  {
   "cell_type": "code",
   "execution_count": 27,
   "id": "cbce50b6",
   "metadata": {},
   "outputs": [],
   "source": [
    "def bin_classify(form_start=1, form_end=84, score_mean=2.5, score_std=0.0):\n",
    "    aesScore_image_freq = get_aesScoreWise_imageFreq(form_start, form_end)\n",
    "    good_cnt = 0\n",
    "    bad_cnt = 0\n",
    "    skipped_cnt = 0\n",
    "    for (aes_score, image_freq) in aesScore_image_freq.items():\n",
    "        if aes_score>=(score_mean+score_std):\n",
    "            good_cnt+=image_freq\n",
    "        elif aes_score<=(score_mean-score_std):\n",
    "            bad_cnt+=image_freq\n",
    "        else:\n",
    "            skipped_cnt+=image_freq\n",
    "\n",
    "    total_cnt = good_cnt + bad_cnt\n",
    "    print('Good={}({:.2f}%), Bad={}({:.2f}%)'.format(good_cnt, good_cnt*100/total_cnt, bad_cnt, bad_cnt*100/total_cnt))\n",
    "    print('skipped=', skipped_cnt)"
   ]
  },
  {
   "cell_type": "code",
   "execution_count": 28,
   "id": "5c722e58",
   "metadata": {},
   "outputs": [
    {
     "name": "stdout",
     "output_type": "stream",
     "text": [
      "Good=79133(47.64%), Bad=86972(52.36%)\n",
      "skipped= 0\n"
     ]
    }
   ],
   "source": [
    "bin_classify()"
   ]
  },
  {
   "cell_type": "markdown",
   "id": "625b7585",
   "metadata": {},
   "source": [
    "  \n",
    "## Let's pick the threshold for 'good', 'bad' as the mean of all available scores  \n",
    "(this makes more logical sense)"
   ]
  },
  {
   "cell_type": "code",
   "execution_count": 29,
   "id": "b5004ae6",
   "metadata": {},
   "outputs": [],
   "source": [
    "def get_mean_aesScore(form_start=1, form_end=84):\n",
    "    aesScore_image_freq = get_aesScoreWise_imageFreq(form_start, form_end)\n",
    "    total_score = 0\n",
    "    total_freq = 0\n",
    "    for (aes_score, freq) in aesScore_image_freq.items():\n",
    "        total_score+=(aes_score*freq)\n",
    "        total_freq+=freq\n",
    "    \n",
    "    return total_score / total_freq "
   ]
  },
  {
   "cell_type": "code",
   "execution_count": 30,
   "id": "e1033573",
   "metadata": {},
   "outputs": [],
   "source": [
    "def get_stdDev_aesScore(form_start=1, form_end=84):\n",
    "    aesScore_image_freq = get_aesScoreWise_imageFreq(form_start, form_end)\n",
    "    \n",
    "    aes_scores = []\n",
    "    \n",
    "    for (aes_score, freq) in aesScore_image_freq.items():\n",
    "        while freq > 0:\n",
    "            aes_scores.append(aes_score)\n",
    "            freq-=1\n",
    "    \n",
    "    return np.std(aes_scores) "
   ]
  },
  {
   "cell_type": "markdown",
   "id": "05ec60ba",
   "metadata": {},
   "source": [
    "  \n",
    "## Good, Bad count using mean & stdDev in all the samples  \n"
   ]
  },
  {
   "cell_type": "code",
   "execution_count": 31,
   "id": "7f0a6af0",
   "metadata": {},
   "outputs": [
    {
     "name": "stdout",
     "output_type": "stream",
     "text": [
      "mean =  2.454930122512869 stdDev = 1.0071517244767565\n"
     ]
    }
   ],
   "source": [
    "mean_aesScore = get_mean_aesScore()\n",
    "stdDev_aesScore = get_stdDev_aesScore()\n",
    "print(\"mean = \", mean_aesScore, \"stdDev =\",stdDev_aesScore)"
   ]
  },
  {
   "cell_type": "code",
   "execution_count": 32,
   "id": "72c1000e",
   "metadata": {
    "scrolled": true
   },
   "outputs": [
    {
     "name": "stdout",
     "output_type": "stream",
     "text": [
      "Good=79133(47.64%), Bad=86972(52.36%)\n",
      "skipped= 0\n"
     ]
    }
   ],
   "source": [
    "bin_classify(score_mean=mean_aesScore)"
   ]
  },
  {
   "cell_type": "code",
   "execution_count": 33,
   "id": "5e4a2e91",
   "metadata": {},
   "outputs": [
    {
     "name": "stdout",
     "output_type": "stream",
     "text": [
      "Good=29202(44.03%), Bad=37121(55.97%)\n",
      "skipped= 99782\n"
     ]
    }
   ],
   "source": [
    "bin_classify(score_mean=mean_aesScore, score_std=stdDev_aesScore)"
   ]
  },
  {
   "cell_type": "markdown",
   "id": "9734159f",
   "metadata": {},
   "source": [
    "  \n",
    "## Good, Bad count using mean & stdDev in only 'sorborno' samples  \n"
   ]
  },
  {
   "cell_type": "code",
   "execution_count": 34,
   "id": "3a6a1f60",
   "metadata": {},
   "outputs": [],
   "source": [
    "# variables for only sorborno \n",
    "sorborno_mean_aesScore = get_mean_aesScore(form_start=1, form_end=11)\n",
    "sorborno_stdDev_aesScore = get_stdDev_aesScore(form_start=1, form_end=11)"
   ]
  },
  {
   "cell_type": "code",
   "execution_count": 35,
   "id": "a3d3f8fb",
   "metadata": {},
   "outputs": [
    {
     "name": "stdout",
     "output_type": "stream",
     "text": [
      "mean = 2.4543821787632556 stdDev = 1.0072364551397748\n"
     ]
    }
   ],
   "source": [
    "print(\"mean =\", sorborno_mean_aesScore, \"stdDev =\", sorborno_stdDev_aesScore)"
   ]
  },
  {
   "cell_type": "code",
   "execution_count": 36,
   "id": "569b79b3",
   "metadata": {},
   "outputs": [
    {
     "name": "stdout",
     "output_type": "stream",
     "text": [
      "Good=10372(47.62%), Bad=11411(52.38%)\n",
      "skipped= 0\n"
     ]
    }
   ],
   "source": [
    "bin_classify(form_start=1, form_end=11, score_mean=sorborno_mean_aesScore)"
   ]
  },
  {
   "cell_type": "code",
   "execution_count": 37,
   "id": "43873627",
   "metadata": {},
   "outputs": [
    {
     "name": "stdout",
     "output_type": "stream",
     "text": [
      "Good=3828(44.02%), Bad=4869(55.98%)\n",
      "skipped= 13086\n"
     ]
    }
   ],
   "source": [
    "bin_classify(form_start=1, form_end=11, score_mean=sorborno_mean_aesScore, score_std=sorborno_stdDev_aesScore)"
   ]
  },
  {
   "cell_type": "markdown",
   "id": "358eac31",
   "metadata": {},
   "source": [
    "**result is the same but now it makes more sense**"
   ]
  }
 ],
 "metadata": {
  "kernelspec": {
   "display_name": "Python 3",
   "language": "python",
   "name": "python3"
  },
  "language_info": {
   "codemirror_mode": {
    "name": "ipython",
    "version": 3
   },
   "file_extension": ".py",
   "mimetype": "text/x-python",
   "name": "python",
   "nbconvert_exporter": "python",
   "pygments_lexer": "ipython3",
   "version": "3.8.8"
  }
 },
 "nbformat": 4,
 "nbformat_minor": 5
}
